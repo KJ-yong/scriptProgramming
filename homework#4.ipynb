{
 "cells": [
  {
   "cell_type": "markdown",
   "id": "a0e35ca1",
   "metadata": {},
   "source": [
    "### 1. 다음 문제를 읽고 알맞은 코드를 제시하시오"
   ]
  },
  {
   "cell_type": "markdown",
   "id": "330a1c72",
   "metadata": {},
   "source": [
    "#### 1) 파일 s.txt 안에 다음 내용과 함께 아래 문제의 코드를 제시하시오.\n",
    "#### pig ham\n",
    "#### cat dog\n",
    "#### ham bird\n",
    "#### dog pig"
   ]
  },
  {
   "cell_type": "markdown",
   "id": "b2601a05",
   "metadata": {},
   "source": [
    "#### 2) 파일 s.txt을 읽어서 각 라인에 있는 첫 번째 단어(문자열) 자체들을 기준으로 라인별 정렬후 파일 s1.txt에 그 결과를 기록하는 코드를 작성하시오. 즉, 프로그램 수행 후 s1.txt에 있는 파일 내용은 다음과 같다.\n",
    "#### cat dog\n",
    "#### dog pig\n",
    "#### ham bird\n",
    "#### pig ham"
   ]
  },
  {
   "cell_type": "code",
   "execution_count": 5,
   "id": "e7711caa",
   "metadata": {},
   "outputs": [],
   "source": [
    "line_list = []\n",
    "with open ('s.txt', 'r') as f :\n",
    "    while True :\n",
    "        line = f.readline()\n",
    "        if not line : break\n",
    "        else :\n",
    "            line_list.append(line.split())\n",
    "line_list.sort(key = lambda l : l[0])\n",
    "\n",
    "with open ('s1.txt', 'w') as f :\n",
    "    for c in line_list :\n",
    "        f.write(' '.join(c) + '\\n')"
   ]
  },
  {
   "cell_type": "markdown",
   "id": "18ce7e24",
   "metadata": {},
   "source": [
    "#### s.txt 파일에서 한 줄씩 읽어와 첫단어와 두번째 단어를 분리하여 리스트로 저장한다.\n",
    "#### 그 후 저장되어있는 리스트를 첫 번째 단어를 기준으로 정렬한 후 다시 문자열로 만들어 한 줄씩 s1.txt 파일에 저장한다."
   ]
  },
  {
   "cell_type": "markdown",
   "id": "9af47011",
   "metadata": {},
   "source": [
    "#### 3) 파일 s.txt을 읽어서 각 라인에 있는 두 번째 단어(문자열) 자체들을 기준으로 라인별 정렬후 파일 s2.txt에 그 결과를 기록하는 코드를 작성하시오. 즉, 프로그램 수행 후 s2.txt에 있는 파일 내용은 다음과 같다.\n",
    "#### ham bird\n",
    "#### cat dog\n",
    "#### pig ham\n",
    "#### dog pig"
   ]
  },
  {
   "cell_type": "code",
   "execution_count": 6,
   "id": "9c0c30ca",
   "metadata": {},
   "outputs": [],
   "source": [
    "line_list = []\n",
    "with open ('s.txt', 'r') as f :\n",
    "    while True :\n",
    "        line = f.readline()\n",
    "        if not line : break\n",
    "        else :\n",
    "            line_list.append(line.split())\n",
    "line_list.sort(key = lambda l : l[1])\n",
    "\n",
    "with open ('s2.txt', 'w') as f :\n",
    "    for c in line_list :\n",
    "        f.write(' '.join(c) + '\\n')"
   ]
  },
  {
   "cell_type": "markdown",
   "id": "ae841d2c",
   "metadata": {},
   "source": [
    "#### s.txt 파일에서 한 줄씩 읽어와 첫단어와 두번째 단어를 분리하여 리스트로 저장한다.\n",
    "#### 그 후 저장되어있는 리스트를 두 번째 단어를 기준으로 정렬한 후 다시 문자열로 만들어 한 줄씩 s1.txt 파일에 저장한다."
   ]
  },
  {
   "cell_type": "markdown",
   "id": "3f6c3cd3",
   "metadata": {},
   "source": [
    "#### 4) 파일 s.txt을 읽어서 각 라인들에 있는 모든 단어들을 순차적으로 다시 나열하되 각 라인에 세 개의 단어들이 오도록 하여 s3.txt에 기록하는 코드를 작성하시오. 즉, 프로그램 수행 후 s3.txt에 있는 파일 내용은 다음과 같다.\n",
    "#### pig ham cat\n",
    "#### dog ham bird\n",
    "#### dog pig"
   ]
  },
  {
   "cell_type": "code",
   "execution_count": 19,
   "id": "f65555a6",
   "metadata": {},
   "outputs": [],
   "source": [
    "word_list = []\n",
    "with open ('s.txt', 'r') as f :\n",
    "    while True :\n",
    "        line = f.readline()\n",
    "        if not line : break\n",
    "        else :\n",
    "            l = (line.split())\n",
    "            for c in l :\n",
    "                word_list.append(c)\n",
    "                \n",
    "with open ('s3.txt', 'w') as f:\n",
    "    i = 0\n",
    "    temp = ''\n",
    "    for c in word_list :\n",
    "        i += 1\n",
    "        temp += (c + ' ')\n",
    "        if(i == 3) :\n",
    "            f.write(temp + '\\n')\n",
    "            i = 0\n",
    "            temp = ''\n",
    "    if temp : f.write(temp)"
   ]
  },
  {
   "cell_type": "markdown",
   "id": "606e8fec",
   "metadata": {},
   "source": [
    "#### s.txt를 읽어서 s.txt의 단어들로 구성된 리스트를 만든다. 그 후 리스트의 값을 하나씩 빈 문자열에 합치고 3개를 합칠 때마다 파일에 한줄씩 저장한다. 마지막에는 3개가 안되는 단어들을 파일의 마지막 줄에 써준다."
   ]
  },
  {
   "cell_type": "markdown",
   "id": "4c9dc75b",
   "metadata": {},
   "source": [
    "### 2. 다음과 같은 조건들을 참고하여 회원 가입 및 로그인 프로그램을 작성하시오.\n",
    "#### 1) 프로그램 시작 후 다음과 같은 메시지가 출력되어 1, 2, 3 중 하나의 값을 입력 받도록 한다.\n",
    "#### Welcome to Our Service\n",
    "#### A. Sign Up\n",
    "#### B. Sign In\n",
    "#### C. Quit\n",
    "#### 2) 1을 선택하면 ID, Password, Name, School의 4가지 정보를 입력받아 파일에 저장하는 프로그램을 작성한다.\n",
    "##### 2-1) 입력된 내용은 access.txt 라는 이름의 텍스트 파일 내에 저장된다.\n",
    "##### 2-2) access.txt 파일의 각 라인에는 가입된 회원 각각의 정보가 \"[id]: [password], [name], [school]\" 형태로 저장된다.\n",
    "##### 2-3) 즉, 가입 회원이 10명이면 access.txt 파일 내에 라인 수도 정확히 10개이다.\n",
    "##### 2-4) 암호화 방식은 sha 모듈을 활용한다. sha 모듈 활용 방법은 본 문제의 마지막에 제시된 sha 활용 예를 참고한다.\n",
    "##### 즉, access.txt 파일 내에 password 정보는 암호화 되어 저장되어야 한다.\n",
    "##### 2-5) 회원 정보를 입력 받을 때 id를 입력 받은 직후 access.txt를 확인하여 이미 존재하는 id가 입력되었다면 다음 메시지를 출력하고 id 정보를 다시 입력받는다.\n",
    "##### Sorry, the entered ID is already used.\n",
    "#### 3) 2를 선택하면 ID, Password의 2가지 정보를 입력받는 프로그램을 작성한다.\n",
    "##### 3-1) 입력된 ID 정보가 access.txt에 존재하지 않으면 다음과 같은 메시지를 출력하고 다시 입력받는다.\n",
    "##### Sorry, you are not a registered member.\n",
    "##### 3-2) 입력된 ID가 올바르게 존재하지만 Password 정보가 access.txt 파일에 있는 정보와 불일치하면 다음과 같은 메시지를 출력하고 Password를 다시 입력받는다.\n",
    "##### Sorry, the entered password is not correct.\n",
    "##### 이 때에도 사용자가 입력한 Password 정보와 함께 sha 모듈이 활용되어야 한다.\n",
    "##### 3-3) 입력된 ID와 Password가 모두 올바르면 다음과 같은 메시지를 출력한다.\n",
    "##### Hello [name]!\n",
    "##### 위 [name]에는 access.txt에 기록되어 있는 name 정보를 출력한다.\n",
    "#### 4) 3을 선택하면 프로그램이 끝난다."
   ]
  },
  {
   "cell_type": "code",
   "execution_count": 53,
   "id": "64bd8b25",
   "metadata": {},
   "outputs": [
    {
     "name": "stdout",
     "output_type": "stream",
     "text": [
      "Welcome to Our Service\n",
      "A. Sign Up\n",
      "B. Sign In\n",
      "C. Quit\n",
      "1, 2, 3 중 하나를 입력하세요. : 2\n",
      "아이디 입력 : kjy\n",
      "password 입력 : 1234\n",
      "Hello 김재용\n",
      "\n",
      "Welcome to Our Service\n",
      "A. Sign Up\n",
      "B. Sign In\n",
      "C. Quit\n",
      "1, 2, 3 중 하나를 입력하세요. : 3\n",
      "프로그램 종료\n"
     ]
    }
   ],
   "source": [
    "import hashlib\n",
    "\n",
    "access_list = []\n",
    "\n",
    "def menu() :\n",
    "    print(\"Welcome to Our Service\")\n",
    "    print(\"A. Sign Up\")\n",
    "    print(\"B. Sign In\")\n",
    "    print(\"C. Quit\")\n",
    "\n",
    "def checkId(id_use) :\n",
    "    isInList = False\n",
    "    index = -1\n",
    "    for n,c in enumerate(access_list,0) :\n",
    "        if c[0] == id_use :\n",
    "            isInList = True\n",
    "            index = n\n",
    "            break;\n",
    "    return isInList, index\n",
    "\n",
    "def signUp() :\n",
    "    id_use = ''\n",
    "    while True :\n",
    "        id_use = input(\"사용할 Id를 입력해 주세요. : \")\n",
    "        inList, i = checkId(id_use)\n",
    "        if not inList : break\n",
    "        else : \n",
    "            print(\"Sorry, the entered ID is already used.\")\n",
    "    password = hashlib.sha1(input(\"사용할 password를 입력해 주세요. : \").encode()).hexdigest()\n",
    "    name = input(\"name 입력 : \")\n",
    "    school = input(\"school 입력 : \")\n",
    "    access_list.append([id_use,password,name,school])\n",
    "    with open ('access.txt', 'w') as f :\n",
    "        for c in access_list :\n",
    "            s = c[0]+\":\"+c[1]+\",\"+c[2]+\",\"+c[3]+\"\\n\"\n",
    "            f.write(s)\n",
    "\n",
    "def signIn() :\n",
    "    id_use = ''\n",
    "    password = ''\n",
    "    idIndex = 0\n",
    "    while True :\n",
    "        id_use = input(\"아이디 입력 : \")\n",
    "        idInList, idIndex = checkId(id_use)\n",
    "        if idInList : break\n",
    "        else :\n",
    "            print(\"Sorry, you are not a registered member.\")\n",
    "    while True :\n",
    "        password = hashlib.sha1(input(\"password 입력 : \").encode()).hexdigest()\n",
    "        if access_list[idIndex][1] == password :\n",
    "            print(\"Hello\",access_list[idIndex][2])\n",
    "            print()\n",
    "            break\n",
    "        else :\n",
    "            print(\"Sorry, the entered password is not correct.\")\n",
    "try :\n",
    "    with open ('access.txt', 'r') as f:\n",
    "        while True :\n",
    "            line = f.readline()\n",
    "            if not line : break\n",
    "            else :\n",
    "                l = line.split(',')\n",
    "                l[0] = l[0].split(':')\n",
    "                l2 = []\n",
    "                l2.append(l[0][0])\n",
    "                l2.append(l[0][1])\n",
    "                l2.append(l[1])\n",
    "                l2.append(l[2])\n",
    "                access_list.append(l2)\n",
    "                \n",
    "except FileNotFoundError :\n",
    "    pass\n",
    "\n",
    "while True :\n",
    "    menu()\n",
    "    a = input(\"1, 2, 3 중 하나를 입력하세요. : \")\n",
    "    if a == \"1\" :\n",
    "        signUp()\n",
    "    elif a == \"2\" :\n",
    "        signIn()\n",
    "    elif a == \"3\" : \n",
    "        print(\"프로그램 종료\")\n",
    "        break\n",
    "    else :\n",
    "        print(\"1, 2, 3중 하나만 입력해주세요\")"
   ]
  },
  {
   "cell_type": "markdown",
   "id": "58a7fb52",
   "metadata": {},
   "source": [
    "### 3. range() 함수와 유사한 frange() 함수를 다음 조건을 참고하여 만드시오.\n",
    "#### 1) frange()의 인자 구성은 다음과 같이 range와 동일하지만 각 인수들은 음수를 받지 않는다고 가정한다.\n",
    "#### range(stop)\n",
    "#### range(start, stop[, step])\n",
    "#### 2) frange() 함수의 인자에 대한 기본 시작(start) 값은 0.0이고, 기본 단계(step) 값은 0.1이다.\n",
    "#### 3) frange 사용 예\n",
    "##### 3-1) frange(0.5)\n",
    "##### [0.0, 0.1, 0.2, 0.3, 0.4]\n",
    "##### 3-2) frange(1.0, 2.0)\n",
    "##### [1.0, 1.1, 1.2, 1.3, 1.4, 1.5, 1.6, 1.7, 1.8, 1.9]\n",
    "##### 3-3) frange(2.2, 4.0, 0.5)\n",
    "##### [2.2, 2.7, 3.2, 3.7]"
   ]
  },
  {
   "cell_type": "code",
   "execution_count": 63,
   "id": "48d0e4d0",
   "metadata": {},
   "outputs": [
    {
     "name": "stdout",
     "output_type": "stream",
     "text": [
      "[0.0, 0.1, 0.2, 0.3, 0.4]\n",
      "[1.0, 1.1, 1.2, 1.3, 1.4, 1.5, 1.6, 1.7, 1.8, 1.9]\n",
      "[2.2, 2.7, 3.2, 3.7]\n"
     ]
    }
   ],
   "source": [
    "import decimal\n",
    "\n",
    "def frange(p1, p2 = -1.0, p3 = 0.1) :\n",
    "    result_list = []\n",
    "    value = 0.0\n",
    "    end = 0.0\n",
    "    step = p3\n",
    "    if(p2 < 0) :\n",
    "        end = p1\n",
    "    else :\n",
    "        value = p1\n",
    "        end = p2\n",
    "    while True :\n",
    "        if value >= end : break\n",
    "        else : \n",
    "            #result_list.append(round(value,2))\n",
    "            result_list.append(value)\n",
    "            value = float(decimal.Decimal(str(value)) + decimal.Decimal(str(step)))\n",
    "    return result_list \n",
    "print(frange(0.5))\n",
    "print(frange(1.0,2.0))\n",
    "print(frange(2.2,4.0,0.5))"
   ]
  },
  {
   "cell_type": "markdown",
   "id": "1a8135ec",
   "metadata": {},
   "source": [
    "#### 0.300000000004와 같은 오류를 피하기 위해서 decimal 모듈을 사용하였다."
   ]
  },
  {
   "cell_type": "markdown",
   "id": "2783599a",
   "metadata": {},
   "source": [
    "### 4. 가변인수를 받는 함수 sum()을 다음과 같은 조건을 참고하여 구현하시오\n",
    "#### sum() 사용 예\n",
    "#### sum()\n",
    "#### 0\n",
    "#### sum(1, 2)\n",
    "#### 3\n",
    "#### sum(1, 2, 3, 4, 5)\n",
    "#### 15\n",
    "#### sum(1, 5, 7, 2, -10)\n",
    "#### 5"
   ]
  },
  {
   "cell_type": "code",
   "execution_count": 1,
   "id": "c144dd20",
   "metadata": {},
   "outputs": [
    {
     "name": "stdout",
     "output_type": "stream",
     "text": [
      "0\n",
      "3\n",
      "15\n",
      "5\n"
     ]
    }
   ],
   "source": [
    "def sum(*arg) :\n",
    "    result = 0\n",
    "    for i in arg :\n",
    "        result += i\n",
    "    return result\n",
    "\n",
    "print(sum())\n",
    "print(sum(1,2))\n",
    "print(sum(1,2,3,4,5))\n",
    "print(sum(1,5,7,2,-10))"
   ]
  },
  {
   "cell_type": "markdown",
   "id": "f78614b4",
   "metadata": {},
   "source": [
    "#### 가변인수를 받아 모두 더한 값을 반환한다."
   ]
  },
  {
   "cell_type": "markdown",
   "id": "8cef520e",
   "metadata": {},
   "source": [
    "### 5. 여러 단어로 이루어진 문자열을 입력받아 각 단어의 첫글자로 이루어진 단어를 대문자로 출력하는 myinitial() 함수를 다음 조건을 참고하여 작성하시오.\n",
    "#### 1) 다음에 제시되는 함수들을 모두 이용해야 한다.\n",
    "#### split\n",
    "#### map\n",
    "#### join\n",
    "#### 2) myinitial() 함수 사용 예\n",
    "#### myinitial(\"as soon as possible\")\n",
    "#### ASAP"
   ]
  },
  {
   "cell_type": "code",
   "execution_count": 2,
   "id": "87699c5b",
   "metadata": {},
   "outputs": [
    {
     "name": "stdout",
     "output_type": "stream",
     "text": [
      "ASAP\n"
     ]
    }
   ],
   "source": [
    "def myinitial(s) :\n",
    "    word_list = s.split()\n",
    "    result_list = map(lambda word : word[0].upper(), word_list)\n",
    "    print(''.join(result_list))\n",
    "\n",
    "myinitial(\"as soon as possible\")"
   ]
  },
  {
   "cell_type": "markdown",
   "id": "4607680a",
   "metadata": {},
   "source": [
    "### 6. 음이 아닌 정수 n를 입력받으면 n! (factorial)을 계산하는 myfact() 함수를 재귀적 함수로 구현하시오.\n",
    "#### [옵션] 참을 수 있는 정도 만큼의 수행시간을 직접 기다려보면서 n을 늘려보도록 합시다."
   ]
  },
  {
   "cell_type": "code",
   "execution_count": 14,
   "id": "566f23c3",
   "metadata": {},
   "outputs": [
    {
     "name": "stdout",
     "output_type": "stream",
     "text": [
      "402387260077093773543702433923003985719374864210714632543799910429938512398629020592044208486969404800479988610197196058631666872994808558901323829669944590997424504087073759918823627727188732519779505950995276120874975462497043601418278094646496291056393887437886487337119181045825783647849977012476632889835955735432513185323958463075557409114262417474349347553428646576611667797396668820291207379143853719588249808126867838374559731746136085379534524221586593201928090878297308431392844403281231558611036976801357304216168747609675871348312025478589320767169132448426236131412508780208000261683151027341827977704784635868170164365024153691398281264810213092761244896359928705114964975419909342221566832572080821333186116811553615836546984046708975602900950537616475847728421889679646244945160765353408198901385442487984959953319101723355556602139450399736280750137837615307127761926849034352625200015888535147331611702103968175921510907788019393178114194545257223865541461062892187960223838971476088506276862967146674697562911234082439208160153780889893964518263243671616762179168909779911903754031274622289988005195444414282012187361745992642956581746628302955570299024324153181617210465832036786906117260158783520751516284225540265170483304226143974286933061690897968482590125458327168226458066526769958652682272807075781391858178889652208164348344825993266043367660176999612831860788386150279465955131156552036093988180612138558600301435694527224206344631797460594682573103790084024432438465657245014402821885252470935190620929023136493273497565513958720559654228749774011413346962715422845862377387538230483865688976461927383814900140767310446640259899490222221765904339901886018566526485061799702356193897017860040811889729918311021171229845901641921068884387121855646124960798722908519296819372388642614839657382291123125024186649353143970137428531926649875337218940694281434118520158014123344828015051399694290153483077644569099073152433278288269864602789864321139083506217095002597389863554277196742822248757586765752344220207573630569498825087968928162753848863396909959826280956121450994871701244516461260379029309120889086942028510640182154399457156805941872748998094254742173582401063677404595741785160829230135358081840096996372524230560855903700624271243416909004153690105933983835777939410970027753472000000000000000000000000000000000000000000000000000000000000000000000000000000000000000000000000000000000000000000000000000000000000000000000000000000000000000000000000000000000000000000000000000000000000000000000000000000000000000000000000000000000\n"
     ]
    }
   ],
   "source": [
    "def myfact(n) :\n",
    "    if n == 0 : return 1\n",
    "    else :\n",
    "        return n * myfact(n-1)\n",
    "\n",
    "print(myfact(1000))"
   ]
  },
  {
   "cell_type": "markdown",
   "id": "99cd4a6b",
   "metadata": {},
   "source": [
    "#### 0이면 1을 반환하고 0이 아니면 n * myfact(n-1)을 반환하여 재귀적으로 팩토리얼을 구현하였다."
   ]
  },
  {
   "cell_type": "markdown",
   "id": "869b739d",
   "metadata": {},
   "source": [
    "### 7. (서술형) import string 과 from string import * 의 차이점을 설명하시오."
   ]
  },
  {
   "cell_type": "markdown",
   "id": "08864420",
   "metadata": {},
   "source": [
    "#### import 패키지이름 은 패키지의 함수나 변수를 사용할 때 패키지이름.함수명 또는 패키지이름.변수명으로  '.'을 사용해야 한다.\n",
    "#### 그에 반해 from 패키지 import * 는 패키지의 함수나 변수를 사용할 때 '.'을 사용할 필요없이 바로 함수와 변수를 사용할 수 있다."
   ]
  },
  {
   "cell_type": "markdown",
   "id": "f9c467ef",
   "metadata": {},
   "source": [
    "### [Incremental Project 문제]\n",
    "#### 이전 Assignment 3의 마지막 문제는 웹 URL로 지정된 웹페이지를 문자열로 가져와 모든 HTML 태그 및 CSS와 Javascript를 제외한 순수 텍스트를 얻어내고 그 안에 존재하는 단어를 추출하여 각 단어들에 대해 출현빈도를 사전형태({'world': 2, 'hello': 1, 'python': 1})로 저장하여 출력하는 것이었다. 이번에는 Assignment 3를 확장하여 다음과 같은 조건을 만족하도록 구현하시오.\n",
    "#### 1) 다음 사이트에서 제시되는 불용어 (Stop words)를 참고하여 이전 숙제에서 구성했던 단어 사전에서 불용어들을 모두 제거하는 코드를 추가하시오.\n",
    "#### 영어 불용어: http://www.lextek.com/manuals/onix/stopwords1.html\n",
    "#### 한글 불용어: https://raw.githubusercontent.com/stopwords-iso/stopwords-ko/master/stopwords-ko.txt\n",
    "#### 2) 각 URL로 지정된 웹페이지의 HTML 소스를 파일로 저장하시오.\n",
    "#### URL이 http://URL 이라면 파일명은 URL.html 이다.\n",
    "#### 예: URL이 http://www.cnn.com 이라면 파일명은 www.cnn.com.html 이다.\n",
    "#### 3) 단어의 출현빈도가 담긴 사전 객체를 위 HTML 소스 파일과 동일한 폴더에 파일로 저장하시오.\n",
    "#### 파일입출력 (E-learning 13주차) 마지막에 학습한 pickle 모듈을 활용하시오.\n",
    "#### URL이 http://URL 이라면 사전 객체를 담고 있는 파일명은 URL.words_frequency.pickle 이다.\n",
    "#### 예: URL이 http://www.cnn.com 이라면 파일명은 www.cnn.com.words_frequency.pickle 이다.\n",
    "#### 4) 최소 5개 이상의 웹 사이트 각각에 대한 HTML 소스 파일과 단어 출현빈도 파일을 저장하시오.\n",
    "#### 즉, 5개의 웹 사이트에 대해 총 10개의 파일을 동일한 폴더에 생성하시오.\n",
    "#### [주의] 가능하면 웹사이트에 단어들이 많고 다루는 주제가 서로 다른 웹 사이트들로 선정하는 것 추천\n",
    "#### 5) 위 문제에서 저장한 모든 pickle 파일들을 객체로 다시 로드하여 본인이 저장하여 분석한 사이트들 각각에 대해서 가장 많이 출현한 단어 3개씩를 뽑아 제시하시오.\n",
    "#### 반드시 pickle 모듈로 저장한 5개 이상의 pickle 파일들을 다시 5개 이상의 사전 객체로 로드 하는 코드가 추가되어야 함\n",
    "#### 6) 간단한 검색엔진 코딩 (Like Google!!!)\n",
    "#### 사용자에게 임의의 검색어 (하나 또는 여러 단어로 구성) 를 입력받으시오.\n",
    "##### 예:\n",
    "##### 대한민국\n",
    "##### 컴퓨터 공학\n",
    "##### 맛있는 음식\n",
    "##### 파이썬\n",
    "##### 한기대 장점\n",
    "#### 입력받은 검색어들에 대해서도 1)에서 제시하는 방법처럼 불용어 처리를 하여 정리\n",
    "#### 입력 받은 검색어와 유사도(Similarity)가 높은 웹 사이트 기준으로 위 4)에서 미리 지정해 놓은 5개 이상의 웹 사이트 URL들을 일렬로 나열하여 출력하시오.\n",
    "#### 검색어와 웹 사이트 간의 유사도는 본인이 스스로 정하시오.\n",
    "#### 유사도를 정하는 최소한의 기준은 단어 출현 빈도를 기반으로 해야 하며, 이외의 본인이 생각하는 방안이 있으면 함께 사용해도 됨.\n",
    "#### 유사도가 높은 웹 사이트가 상위에 출력되어야 함 (즉, 유사도 기준 내림 차순)\n",
    "#### 유사도가 동일한 웹 사이트들에 대해서는 임의 배치함.\n",
    "#### 7) [주의] 필수사항\n",
    "#### 위에서 만든 검색엔진 코딩은 매우 간단한 것이라 부족한 점이 많이 존재한다.\n",
    "#### 본인이 생각하기에 상업적인 완성도 높은 검색 로봇/엔진이 되려면 어떤 기능들이 추가적으로 구현되어야 할지 최소 1가지 이상 제시하시오."
   ]
  },
  {
   "cell_type": "code",
   "execution_count": 1,
   "id": "c325b314",
   "metadata": {},
   "outputs": [],
   "source": [
    "#homework#2 에서 가져온 내용\n",
    "\n",
    "def removeJavascript(s) : #자바스크립트 코드 제거 함수\n",
    "    text = s\n",
    "    start_index = 0\n",
    "    a = text.find(\"<script\", start_index)\n",
    "    while(a != -1) :\n",
    "        b = text.find(\"</script>\",a)\n",
    "        text = text.replace(text[a:b+9], ' ')\n",
    "        start_index = a\n",
    "        a = text.find(\"<script\", start_index)\n",
    "    return text\n",
    "\n",
    "def removeCSS(s) : #CSS 제거 함수\n",
    "    text = s\n",
    "    start_index = 0\n",
    "    a =text.find(\"<style\",start_index)\n",
    "    while(a != -1) :\n",
    "        b = text.find(\"</style>\",a)\n",
    "        text = text.replace(text[a:b+8],' ')\n",
    "        start_index = a\n",
    "        a =text.find(\"<style\",start_index)\n",
    "    return text\n",
    "\n",
    "def removeTag(s) : # '<'로 시작해서 '>'로 끝나는 HTML 태그 삭제하는 함수\n",
    "    text = s\n",
    "    start_index = 0\n",
    "    a = text.find(\"<\", start_index)\n",
    "    while(a != -1) :\n",
    "        b = text.find(\">\",a)\n",
    "        if b == -1 : break\n",
    "        text = text.replace(text[a:b+1],' ')\n",
    "        start_index = a\n",
    "        a = text.find(\"<\", start_index)\n",
    "    return text\n",
    "\n",
    "def removeHTML(s) : #종합하여 HTML코드를 삭제하는 함수\n",
    "    text = s\n",
    "    text = removeJavascript(text)\n",
    "    text = removeCSS(text)\n",
    "    text = removeTag(text)\n",
    "    return text.split()\n",
    "\n",
    "def countWord(list) : #단어가 몇개인지 세는 함수\n",
    "    return len(list)\n",
    "\n",
    "#homework#3에서 가져온 내용\n",
    "\n",
    "def removePunctuation(string) : #문자열에서 구두문자 제거 함수\n",
    "    punctuation = \"!\\\"#$%&'()*+,-./:;<=>?@[\\]^_`{|}~\"\n",
    "    result = string\n",
    "    for i in range(0,len(string)) :\n",
    "        if(punctuation.find(string[i]) >= 0) : result = result.replace(string[i],\"\")\n",
    "    return result\n",
    "\n",
    "def listremovePunc(list) : #리스트에서 구두문자 제거 및 공백 제거\n",
    "    result = list\n",
    "    i = 0\n",
    "    while(i<len(result)) :\n",
    "        result[i] = removePunctuation(result[i])\n",
    "        if(result[i] == \"\") : \n",
    "            result.pop(i)\n",
    "            i -= 1\n",
    "        i += 1\n",
    "    return result\n",
    "\n",
    "def frequency(list) : #리스트에서 각 단어의 출현빈도 사전형으로 반환\n",
    "    result = {}\n",
    "    for word in list :\n",
    "        if(result.get(word) == None) : result[word] = 1\n",
    "        else : \n",
    "            value = result.get(word)\n",
    "            result[word] = value + 1\n",
    "    return result\n",
    "\n",
    "def toDictionary(source) : #소스를 받아서 사전형으로 변환\n",
    "    return frequency(listremovePunc(removeHTML(source)))\n"
   ]
  },
  {
   "cell_type": "code",
   "execution_count": 11,
   "id": "4609a1f6",
   "metadata": {},
   "outputs": [],
   "source": [
    "import requests\n",
    "import pickle\n",
    "\n",
    "stopWords = set()\n",
    "koreanStopWords = removeHTML(requests.get('https://raw.githubusercontent.com/stopwords-iso/stopwords-ko/master/stopwords-ko.txt').text)\n",
    "stopWords.update(koreanStopWords)\n",
    "try :\n",
    "    with open(\"stop_words_english.txt\",\"r\", encoding = 'UTF8') as f :\n",
    "        while True :\n",
    "            word = f.readline().strip()\n",
    "            if not word : break\n",
    "            else :\n",
    "                stopWords.add(word)\n",
    "except FileNotFoundError :\n",
    "    pass\n",
    "\n",
    "def isStopWord(string) : #문자열이 stop word면 True 반환\n",
    "    return string in stopWords\n",
    "    \n",
    "def removeStopWord(word_dict) : #사전형 데이터에서 키 값이 stop word인 항목 제거\n",
    "    keys = list(word_dict.keys())\n",
    "    for key in keys :\n",
    "        if isStopWord(key) : del word_dict[key]\n",
    "            \n",
    "def write_html_file(url) : #html소스를 url.html 파일로 저장\n",
    "    source = requests.get(url).text\n",
    "    i = url.find(\"//\")\n",
    "    file_name = url.replace(url[:i+2],'')\n",
    "    file_name = file_name.replace('/','.')\n",
    "    if file_name[-1] == '.' : file_name + \"html\"\n",
    "    else : file_name + \".html\"\n",
    "    with open(file_name, 'w',encoding = 'UTF-8') as f :\n",
    "        f.write(source)\n",
    "        \n",
    "def write_pickle_file(url) : #사전형 데이터를 url.words_frequency.pickle 파일로 저장\n",
    "    source = requests.get(url).text\n",
    "    word_frequency = toDictionary(source)\n",
    "    removeStopWord(word_frequency)\n",
    "    i = url.find(\"//\")\n",
    "    file_name = url.replace(url[:i+2],'')\n",
    "    file_name = file_name.replace('/','.')\n",
    "    if file_name[-1] == '.' : file_name + \"words_frequency.pickle\"\n",
    "    else : file_name + \".words_frequency.pickle\"\n",
    "    with open(file_name, 'wb') as f :\n",
    "        pickle.dump(word_frequency, f)\n",
    "        \n",
    "def read_pickle_file(url) : #url.words_frequncy.pickle 파일을 읽어 사전형으로 반환\n",
    "    i = url.find(\"//\")\n",
    "    file_name = url.replace(url[:i+2],'')\n",
    "    file_name = file_name.replace('/','.')\n",
    "    if file_name[-1] == '.' : file_name + \"words_frequency.pickle\"\n",
    "    else : file_name + \".words_frequency.pickle\"\n",
    "    word_frequency = {}\n",
    "    try : \n",
    "        with open(file_name, 'rb') as f :\n",
    "            word_frequency = pickle.load(f)\n",
    "    except FileNotFoundError :\n",
    "        print(\"URL을 잘못 입력했습니다.\")\n",
    "    else :\n",
    "        return word_frequency\n",
    "\n",
    "def getTop3Words(words_dict) : #사전형을 받아 가장 많이 출현하는 3개의 단어를 리스트로 반환\n",
    "    item_list = list(words_dict.items())\n",
    "    item_list.sort(key = lambda a : a[1], reverse = True)\n",
    "    return [item_list[0][0],item_list[1][0], item_list[2][0]]\n",
    "\n",
    "def search(word_dict_list, url_list) :\n",
    "    s = input(\"검색어 입력 : \")\n",
    "    s_word_list = s.split()\n",
    "    for word in list(s_word_list) :\n",
    "        if isStopWord(word) :\n",
    "            s_word_list.remove(word)\n",
    "    result_list = []\n",
    "    for i, word_dict in enumerate(word_dict_list,0) :\n",
    "        all_word_count = sum(word_dict.values())\n",
    "        search_word_count = 0\n",
    "        for word in s_word_list :\n",
    "            search_result = word_dict.get(word)\n",
    "            if search_result != None :\n",
    "                search_word_count += search_result\n",
    "        result_list.append([url_list[i],(search_word_count/all_word_count)])\n",
    "    result_list.sort(key = lambda a : a[1], reverse = True)\n",
    "    for result in result_list :\n",
    "        print(result[0],\", 유사도 : %.5f\" %result[1])"
   ]
  },
  {
   "cell_type": "code",
   "execution_count": 12,
   "id": "5ce5e5b0",
   "metadata": {},
   "outputs": [
    {
     "name": "stdout",
     "output_type": "stream",
     "text": [
      "https://developer.android.com top 3 words :  ['Android', 'type', 'Developers']\n",
      "https://www.koreatech.ac.kr top 3 words :  ['한국기술교육대학교', '대학', '제공합니다']\n",
      "https://comic.naver.com top 3 words :  ['평점', '웹툰', '52초전']\n",
      "https://www.python.org top 3 words :  ['Python', '2021', 'News']\n",
      "https://www.tensorflow.org top 3 words :  ['TensorFlow', 'nbsp', 'ML']\n"
     ]
    }
   ],
   "source": [
    "url_list = [\"https://developer.android.com\", \"https://www.koreatech.ac.kr\", \"https://comic.naver.com\", \"https://www.python.org\", \"https://www.tensorflow.org\"]\n",
    "word_dict_list = []\n",
    "for url in url_list :\n",
    "    write_html_file(url)\n",
    "    write_pickle_file(url)\n",
    "    word_dict_list.append(read_pickle_file(url))\n",
    "    print(url,\"top 3 words : \",getTop3Words(word_dict_list[-1]))"
   ]
  },
  {
   "cell_type": "code",
   "execution_count": 13,
   "id": "f048558e",
   "metadata": {
    "scrolled": false
   },
   "outputs": [
    {
     "name": "stdout",
     "output_type": "stream",
     "text": [
      "검색어 입력 : 한국기술교육대학교\n",
      "https://www.koreatech.ac.kr , 유사도 : 0.01821\n",
      "https://developer.android.com , 유사도 : 0.00000\n",
      "https://comic.naver.com , 유사도 : 0.00000\n",
      "https://www.python.org , 유사도 : 0.00000\n",
      "https://www.tensorflow.org , 유사도 : 0.00000\n"
     ]
    }
   ],
   "source": [
    "search(word_dict_list, url_list)"
   ]
  },
  {
   "cell_type": "markdown",
   "id": "09a9e233",
   "metadata": {},
   "source": [
    "#### 유사도는 '검색한 단어의 출현 횟수 / 웹 사이트의 전체 단어 수' 로 한다."
   ]
  },
  {
   "cell_type": "markdown",
   "id": "d24da0c9",
   "metadata": {},
   "source": [
    "### 상업적인 완성도 높은 검색 로봇/엔진이 되기 위해 어떤 기능들이 추가적으로 구현 되어야 할 기능\n",
    "#### 검색어의 번역이 필요할 것 같다. 예를 들면, '파이썬' 을 검색할 때 'Python'을 검색한 결과도 나와야 할 것 같다.\n",
    "#### 한글 검색어의 띄어쓰기에 대한 처리가 필요할 것 같다. 예를 들면, '한국기술교육대학교'를  '한국 기술 교육 대학교' 라는 식으로 띄어쓰기를 해서 검색을해도 결과가 출력되어야 완성도가 높을 것 같다.\n",
    "#### 줄인말을 검색했을 때도 결과가 나와야 할 것 같다. 예를 들면, '한기대'를 검색할 때도 '한국기술교육대학교' 를 검색했을 때의 결과가 출력되어야할 것 같다."
   ]
  },
  {
   "cell_type": "code",
   "execution_count": null,
   "id": "139b715b",
   "metadata": {},
   "outputs": [],
   "source": []
  }
 ],
 "metadata": {
  "kernelspec": {
   "display_name": "Python 3",
   "language": "python",
   "name": "python3"
  },
  "language_info": {
   "codemirror_mode": {
    "name": "ipython",
    "version": 3
   },
   "file_extension": ".py",
   "mimetype": "text/x-python",
   "name": "python",
   "nbconvert_exporter": "python",
   "pygments_lexer": "ipython3",
   "version": "3.8.8"
  }
 },
 "nbformat": 4,
 "nbformat_minor": 5
}
