{
 "cells": [
  {
   "cell_type": "markdown",
   "id": "4d3fb4d8",
   "metadata": {},
   "source": [
    "### 1. L=[1, 2, 3, 4, 5]일 때 다음 각 문장을 수행한 후의 결과를 보고 납득할 만한 이유를 설명하시오."
   ]
  },
  {
   "cell_type": "markdown",
   "id": "1e91466c",
   "metadata": {},
   "source": [
    "#### 1) L[1:3] = [100]"
   ]
  },
  {
   "cell_type": "markdown",
   "id": "ce98df4f",
   "metadata": {},
   "source": [
    "#### print(L)"
   ]
  },
  {
   "cell_type": "code",
   "execution_count": 3,
   "id": "b5fba707",
   "metadata": {},
   "outputs": [
    {
     "name": "stdout",
     "output_type": "stream",
     "text": [
      "[1, 100, 4, 5]\n"
     ]
    }
   ],
   "source": [
    "L = [1, 2, 3, 4, 5]\n",
    "L[1:3] = [100]\n",
    "print(L)"
   ]
  },
  {
   "cell_type": "markdown",
   "id": "5de7a9cc",
   "metadata": {},
   "source": [
    "#### L[1:3] 은 [L[1], L[2]]이므로 [L[1], L[2]] 에 100 을 대입하여 L = [1, 100, 4, 5]가 된다."
   ]
  },
  {
   "cell_type": "markdown",
   "id": "7910abf1",
   "metadata": {},
   "source": [
    "#### 2) L[1:3] = [(100)]"
   ]
  },
  {
   "cell_type": "markdown",
   "id": "296e90ff",
   "metadata": {},
   "source": [
    "#### print(L)"
   ]
  },
  {
   "cell_type": "code",
   "execution_count": 6,
   "id": "3bbf6943",
   "metadata": {},
   "outputs": [
    {
     "name": "stdout",
     "output_type": "stream",
     "text": [
      "[1, 100, 4, 5]\n"
     ]
    }
   ],
   "source": [
    "L = [1, 2, 3, 4, 5]\n",
    "L[1:3] = [(100)]\n",
    "print(L)"
   ]
  },
  {
   "cell_type": "markdown",
   "id": "98489938",
   "metadata": {},
   "source": [
    "#### L[1:3] 은 [L[1], L[2]]이므로 [L[1], L[2]] 에 100 을 대입하여 L = [1, 100, 4, 5]가 된다."
   ]
  },
  {
   "cell_type": "markdown",
   "id": "cedb6c68",
   "metadata": {},
   "source": [
    "#### 3) L[1:3] = 100"
   ]
  },
  {
   "cell_type": "markdown",
   "id": "00d4df70",
   "metadata": {},
   "source": [
    "#### print(L)"
   ]
  },
  {
   "cell_type": "code",
   "execution_count": 7,
   "id": "fad0f38c",
   "metadata": {},
   "outputs": [
    {
     "ename": "TypeError",
     "evalue": "can only assign an iterable",
     "output_type": "error",
     "traceback": [
      "\u001b[1;31m---------------------------------------------------------------------------\u001b[0m",
      "\u001b[1;31mTypeError\u001b[0m                                 Traceback (most recent call last)",
      "\u001b[1;32m<ipython-input-7-67150f8e927d>\u001b[0m in \u001b[0;36m<module>\u001b[1;34m\u001b[0m\n\u001b[0;32m      1\u001b[0m \u001b[0mL\u001b[0m \u001b[1;33m=\u001b[0m \u001b[1;33m[\u001b[0m\u001b[1;36m1\u001b[0m\u001b[1;33m,\u001b[0m \u001b[1;36m2\u001b[0m\u001b[1;33m,\u001b[0m \u001b[1;36m3\u001b[0m\u001b[1;33m,\u001b[0m \u001b[1;36m4\u001b[0m\u001b[1;33m,\u001b[0m \u001b[1;36m5\u001b[0m\u001b[1;33m]\u001b[0m\u001b[1;33m\u001b[0m\u001b[1;33m\u001b[0m\u001b[0m\n\u001b[1;32m----> 2\u001b[1;33m \u001b[0mL\u001b[0m\u001b[1;33m[\u001b[0m\u001b[1;36m1\u001b[0m\u001b[1;33m:\u001b[0m\u001b[1;36m3\u001b[0m\u001b[1;33m]\u001b[0m \u001b[1;33m=\u001b[0m \u001b[1;36m100\u001b[0m\u001b[1;33m\u001b[0m\u001b[1;33m\u001b[0m\u001b[0m\n\u001b[0m\u001b[0;32m      3\u001b[0m \u001b[0mprint\u001b[0m\u001b[1;33m(\u001b[0m\u001b[0mL\u001b[0m\u001b[1;33m)\u001b[0m\u001b[1;33m\u001b[0m\u001b[1;33m\u001b[0m\u001b[0m\n",
      "\u001b[1;31mTypeError\u001b[0m: can only assign an iterable"
     ]
    }
   ],
   "source": [
    "L = [1, 2, 3, 4, 5]\n",
    "L[1:3] = 100\n",
    "print(L)"
   ]
  },
  {
   "cell_type": "markdown",
   "id": "cef4532b",
   "metadata": {},
   "source": [
    "#### L[1:3]의 타입은 list지만, 100은 int이기 때문에 TypeError가 발생한다."
   ]
  },
  {
   "cell_type": "markdown",
   "id": "1ada60b6",
   "metadata": {},
   "source": [
    "#### 4) L[1:3] = (100)"
   ]
  },
  {
   "cell_type": "markdown",
   "id": "563f2a66",
   "metadata": {},
   "source": [
    "#### print(L)"
   ]
  },
  {
   "cell_type": "code",
   "execution_count": 8,
   "id": "c675cc18",
   "metadata": {},
   "outputs": [
    {
     "ename": "TypeError",
     "evalue": "can only assign an iterable",
     "output_type": "error",
     "traceback": [
      "\u001b[1;31m---------------------------------------------------------------------------\u001b[0m",
      "\u001b[1;31mTypeError\u001b[0m                                 Traceback (most recent call last)",
      "\u001b[1;32m<ipython-input-8-8820e5344e34>\u001b[0m in \u001b[0;36m<module>\u001b[1;34m\u001b[0m\n\u001b[0;32m      1\u001b[0m \u001b[0mL\u001b[0m \u001b[1;33m=\u001b[0m \u001b[1;33m[\u001b[0m\u001b[1;36m1\u001b[0m\u001b[1;33m,\u001b[0m \u001b[1;36m2\u001b[0m\u001b[1;33m,\u001b[0m \u001b[1;36m3\u001b[0m\u001b[1;33m,\u001b[0m \u001b[1;36m4\u001b[0m\u001b[1;33m,\u001b[0m \u001b[1;36m5\u001b[0m\u001b[1;33m]\u001b[0m\u001b[1;33m\u001b[0m\u001b[1;33m\u001b[0m\u001b[0m\n\u001b[1;32m----> 2\u001b[1;33m \u001b[0mL\u001b[0m\u001b[1;33m[\u001b[0m\u001b[1;36m1\u001b[0m\u001b[1;33m:\u001b[0m\u001b[1;36m3\u001b[0m\u001b[1;33m]\u001b[0m \u001b[1;33m=\u001b[0m \u001b[1;33m(\u001b[0m\u001b[1;36m100\u001b[0m\u001b[1;33m)\u001b[0m\u001b[1;33m\u001b[0m\u001b[1;33m\u001b[0m\u001b[0m\n\u001b[0m\u001b[0;32m      3\u001b[0m \u001b[0mprint\u001b[0m\u001b[1;33m(\u001b[0m\u001b[0mL\u001b[0m\u001b[1;33m)\u001b[0m\u001b[1;33m\u001b[0m\u001b[1;33m\u001b[0m\u001b[0m\n",
      "\u001b[1;31mTypeError\u001b[0m: can only assign an iterable"
     ]
    }
   ],
   "source": [
    "L = [1, 2, 3, 4, 5]\n",
    "L[1:3] = (100)\n",
    "print(L)"
   ]
  },
  {
   "cell_type": "markdown",
   "id": "93ee4f3d",
   "metadata": {},
   "source": [
    "#### L[1:3]의 타입은 list지만, (100)은 int이기 때문에 TypeError가 발생한다."
   ]
  },
  {
   "cell_type": "markdown",
   "id": "60a6ceae",
   "metadata": {},
   "source": [
    "#### 5) L[1:3] = (100, 101, 102)"
   ]
  },
  {
   "cell_type": "markdown",
   "id": "800ebbaa",
   "metadata": {},
   "source": [
    "#### print(L)"
   ]
  },
  {
   "cell_type": "code",
   "execution_count": 10,
   "id": "32c6d54f",
   "metadata": {},
   "outputs": [
    {
     "name": "stdout",
     "output_type": "stream",
     "text": [
      "[1, 100, 101, 102, 4, 5]\n"
     ]
    }
   ],
   "source": [
    "L = [1, 2, 3, 4, 5]\n",
    "L[1:3] = (100, 101, 102)\n",
    "print(L)"
   ]
  },
  {
   "cell_type": "markdown",
   "id": "7e3e8c59",
   "metadata": {},
   "source": [
    "#### L[1:3] 자리에 100, 101, 102 가 대입되어 L = [1, 100, 101, 102, 4, 5] 가 된다."
   ]
  },
  {
   "cell_type": "markdown",
   "id": "1330605d",
   "metadata": {},
   "source": [
    "#### 6) L[1:3] = [100, 101, 102]"
   ]
  },
  {
   "cell_type": "markdown",
   "id": "7de9187c",
   "metadata": {},
   "source": [
    "#### print(L)"
   ]
  },
  {
   "cell_type": "code",
   "execution_count": 12,
   "id": "13538461",
   "metadata": {},
   "outputs": [
    {
     "name": "stdout",
     "output_type": "stream",
     "text": [
      "[1, 100, 101, 102, 4, 5]\n"
     ]
    }
   ],
   "source": [
    "L = [1, 2, 3, 4, 5]\n",
    "L[1:3] = [100, 101, 102]\n",
    "print(L)"
   ]
  },
  {
   "cell_type": "markdown",
   "id": "e5dd76bd",
   "metadata": {},
   "source": [
    "#### L[1:3] 자리에 100, 101, 102 가 대입되어 L = [1, 100, 101, 102, 4, 5] 가 된다."
   ]
  },
  {
   "cell_type": "markdown",
   "id": "21c2b864",
   "metadata": {},
   "source": [
    "#### 7) L[1:3] = [(100, 101, 102)]"
   ]
  },
  {
   "cell_type": "markdown",
   "id": "ace20f01",
   "metadata": {},
   "source": [
    "#### print(L)"
   ]
  },
  {
   "cell_type": "code",
   "execution_count": 13,
   "id": "4f0ce5f5",
   "metadata": {},
   "outputs": [
    {
     "name": "stdout",
     "output_type": "stream",
     "text": [
      "[1, (100, 101, 102), 4, 5]\n"
     ]
    }
   ],
   "source": [
    "L = [1, 2, 3, 4, 5]\n",
    "L[1:3] = [(100, 101, 102)]\n",
    "print(L)"
   ]
  },
  {
   "cell_type": "markdown",
   "id": "2a62745a",
   "metadata": {},
   "source": [
    "#### [(100,101,102)]는 tuple을 요소로 가지고 있는 크기가 1인 list이기 때문에 L[1:3]자리에 (100, 101, 102)의 tuple이 대입된다."
   ]
  },
  {
   "cell_type": "markdown",
   "id": "bbe4b232",
   "metadata": {},
   "source": [
    "#### 8) L[1:3] = [[100, 101, 102]]"
   ]
  },
  {
   "cell_type": "markdown",
   "id": "c127d369",
   "metadata": {},
   "source": [
    "#### print(L)"
   ]
  },
  {
   "cell_type": "code",
   "execution_count": 14,
   "id": "597e2f8e",
   "metadata": {},
   "outputs": [
    {
     "name": "stdout",
     "output_type": "stream",
     "text": [
      "[1, [100, 101, 102], 4, 5]\n"
     ]
    }
   ],
   "source": [
    "L = [1, 2, 3, 4, 5]\n",
    "L[1:3] = [[100, 101, 102]]\n",
    "print(L)"
   ]
  },
  {
   "cell_type": "markdown",
   "id": "e5ea34b9",
   "metadata": {},
   "source": [
    "#### [(100,101,102)]는 list를 요소로 가지고 있는 크기가 1인 list이기 때문에 L[1:3]자리에 [100, 101, 102]의 list가 대입된다."
   ]
  },
  {
   "cell_type": "markdown",
   "id": "a7214d2b",
   "metadata": {},
   "source": []
  },
  {
   "cell_type": "markdown",
   "id": "90285a7d",
   "metadata": {},
   "source": [
    "### 2. 문자열 S = 'Hello World and Python'에 대해 다음 요구사항에 대한 Python 코드를 제시하시오."
   ]
  },
  {
   "cell_type": "markdown",
   "id": "c480e8cf",
   "metadata": {},
   "source": [
    "#### 1) 단어의 순서가 역순으로 되어진 문자열 ('Python and World Hello')을 만들고"
   ]
  },
  {
   "cell_type": "markdown",
   "id": "11c18b9c",
   "metadata": {},
   "source": [
    "#### 2) 1)의 결과 문자열에 대해 메소드 split과 join을 이용하여 공백을 모두 없엔 문자열 'PythonandWorldHello'을 만드시오."
   ]
  },
  {
   "cell_type": "code",
   "execution_count": 19,
   "id": "15160596",
   "metadata": {},
   "outputs": [
    {
     "name": "stdout",
     "output_type": "stream",
     "text": [
      "Python and World Hello\n",
      "PythonandWorldHello\n"
     ]
    }
   ],
   "source": [
    "S = 'Hello World and Python'\n",
    "word = S.split()\n",
    "reverse = \"\"\n",
    "for i in range(len(word)-1,-1,-1) :\n",
    "    reverse += word[i]+\" \"\n",
    "reverse = reverse.rstrip()\n",
    "print(reverse)\n",
    "word = reverse.split()\n",
    "result = \"\".join(word)\n",
    "print(result)"
   ]
  },
  {
   "cell_type": "markdown",
   "id": "6b3b567e",
   "metadata": {},
   "source": []
  },
  {
   "cell_type": "markdown",
   "id": "d0090e1d",
   "metadata": {},
   "source": [
    "### 3. 다음 코드를 보고 물음에 답하시오."
   ]
  },
  {
   "cell_type": "markdown",
   "id": "2d5dd3a7",
   "metadata": {},
   "source": [
    "#### a = [1, 2, 3]"
   ]
  },
  {
   "cell_type": "markdown",
   "id": "3a6d05e5",
   "metadata": {},
   "source": [
    "#### b = a * 3"
   ]
  },
  {
   "cell_type": "markdown",
   "id": "fe501ff8",
   "metadata": {},
   "source": [
    "#### c = [a] * 3"
   ]
  },
  {
   "cell_type": "markdown",
   "id": "8b984b8a",
   "metadata": {},
   "source": [
    "#### print(b)"
   ]
  },
  {
   "cell_type": "markdown",
   "id": "0647dea1",
   "metadata": {},
   "source": [
    "#### print(c)"
   ]
  },
  {
   "cell_type": "markdown",
   "id": "d01a6727",
   "metadata": {},
   "source": [
    "#### 1) 위 코드를 수행한 이후 다음 코드를 수행한 후 b와 c의 내용을 확인하시오"
   ]
  },
  {
   "cell_type": "markdown",
   "id": "a529a537",
   "metadata": {},
   "source": [
    "#### a[0]=0"
   ]
  },
  {
   "cell_type": "markdown",
   "id": "dacd708b",
   "metadata": {},
   "source": [
    "#### 2) b와 c 객체의 차이는 무엇인가?"
   ]
  },
  {
   "cell_type": "code",
   "execution_count": 20,
   "id": "c599c700",
   "metadata": {},
   "outputs": [
    {
     "name": "stdout",
     "output_type": "stream",
     "text": [
      "[1, 2, 3, 1, 2, 3, 1, 2, 3]\n",
      "[[1, 2, 3], [1, 2, 3], [1, 2, 3]]\n",
      "[1, 2, 3, 1, 2, 3, 1, 2, 3]\n",
      "[[0, 2, 3], [0, 2, 3], [0, 2, 3]]\n"
     ]
    }
   ],
   "source": [
    "a = [1, 2, 3]\n",
    "b = a * 3\n",
    "c = [a] * 3\n",
    "print(b)\n",
    "print(c)\n",
    "a[0] = 0\n",
    "print(b)\n",
    "print(c)"
   ]
  },
  {
   "cell_type": "markdown",
   "id": "00f61e43",
   "metadata": {},
   "source": [
    "#### b는 a의 원소가 3번 반복되는 새로운 객체를 만들어 참조하고 c는 a를 3번 참조하여 a가 변경되면 c에 있는 원소의 값도 변경된다."
   ]
  },
  {
   "cell_type": "markdown",
   "id": "afe9b933",
   "metadata": {},
   "source": [
    "### 4. 다음 문자열을 ':'을 기준으로 분리하여 리스트로 만들고 각 문자열의 좌우 공백을 제거하시오 (즉, 문자열 S에서 l을 만들어라)"
   ]
  },
  {
   "cell_type": "markdown",
   "id": "23639666",
   "metadata": {},
   "source": [
    "#### s = '  first star   :   second star   :    third star  '"
   ]
  },
  {
   "cell_type": "markdown",
   "id": "572c627e",
   "metadata": {},
   "source": [
    "#### l = ['first star', 'second star', 'third star']"
   ]
  },
  {
   "cell_type": "markdown",
   "id": "4cc919f7",
   "metadata": {},
   "source": [
    "#### 1) for ~ in 문을 이용한 코드를 작성하시오."
   ]
  },
  {
   "cell_type": "markdown",
   "id": "e579bae8",
   "metadata": {},
   "source": [
    "#### 2) 리스트 내포(list comprehension)를 이용한 코드를 작성하시오."
   ]
  },
  {
   "cell_type": "code",
   "execution_count": 27,
   "id": "1b0df8ba",
   "metadata": {},
   "outputs": [
    {
     "name": "stdout",
     "output_type": "stream",
     "text": [
      "['first star', 'second star', 'third star']\n",
      "['first star', 'second star', 'third star']\n"
     ]
    }
   ],
   "source": [
    "s = '  first star   :   second star   :    third star  '\n",
    "l1 = s.split(\":\")\n",
    "for i in range(0,len(l1)) :\n",
    "    l1[i] = l1[i].strip()\n",
    "print(l1)\n",
    "\n",
    "l2 = s.split(\":\")\n",
    "l2 = [i.strip() for i in l2]\n",
    "print(l2)"
   ]
  },
  {
   "cell_type": "markdown",
   "id": "9d1ae9c0",
   "metadata": {},
   "source": [
    "### 5. 다음과 같이 0보다 큰 정수 리스트 변수 list를 인자로 받는 함수 addall(list)와 addallodd(list)를 for ~ in 리터널과 리스트 내포 방식으로 각각 제시하시오."
   ]
  },
  {
   "cell_type": "markdown",
   "id": "f515d5c5",
   "metadata": {},
   "source": [
    "#### 1) addall(list) 함수 (리스트 내의 모든 정수를 더하는 함수로서 해답으로는 for ~ in 리터럴과 리스트 내포 방식으로 각각 제시하시오.)"
   ]
  },
  {
   "cell_type": "markdown",
   "id": "48454e41",
   "metadata": {},
   "source": [
    "#### 2) addallodd(list) 함수 (리스트내의 모든 홀수를 더하는 함수로서 해답으로는 for ~ in 리터럴과 리스트 내포 방식으로 각각 제시하시오.)"
   ]
  },
  {
   "cell_type": "markdown",
   "id": "06fb18a5",
   "metadata": {},
   "source": [
    "#### [참고 1]: 리스트 내포 방식으로 addall() 및 addallodd()함수를 만들 때엔 리스트 내포에 의해 생성된 리스트 결과에 대해 내장 함수를 사용하는 방식을 고려해보시오 (주의: 리스트 내포 방식의 addall() 및 addallodd() 함수의 몸체는 단 1줄로 작성되어야 한다.)"
   ]
  },
  {
   "cell_type": "markdown",
   "id": "4b2056e1",
   "metadata": {},
   "source": [
    "#### [참고 2]: sum() 등의 내장함수 사용 가능함"
   ]
  },
  {
   "cell_type": "code",
   "execution_count": 35,
   "id": "1c27ee3a",
   "metadata": {},
   "outputs": [
    {
     "name": "stdout",
     "output_type": "stream",
     "text": [
      "6\n",
      "10\n"
     ]
    }
   ],
   "source": [
    "def addall1(list) :\n",
    "    result = 0\n",
    "    for i in list :\n",
    "        result += i\n",
    "    return result\n",
    "\n",
    "def addall2(list) :\n",
    "    return sum([i for i in list])\n",
    "\n",
    "print(addall1([1,2,3]))\n",
    "print(addall2([1,2,3,4]))"
   ]
  },
  {
   "cell_type": "code",
   "execution_count": 36,
   "id": "ca77d7de",
   "metadata": {},
   "outputs": [
    {
     "name": "stdout",
     "output_type": "stream",
     "text": [
      "4\n",
      "4\n"
     ]
    }
   ],
   "source": [
    "def addallodd1(list) :\n",
    "    result = 0\n",
    "    for i in list :\n",
    "        if(i%2) : result += i\n",
    "    return result\n",
    "\n",
    "def addallodd2(list) :\n",
    "    return sum([i for i in list if i%2])\n",
    "\n",
    "print(addallodd1([1,2,3]))\n",
    "print(addallodd2([1,2,3,4]))"
   ]
  },
  {
   "cell_type": "markdown",
   "id": "50ea64e2",
   "metadata": {},
   "source": []
  },
  {
   "cell_type": "markdown",
   "id": "ba220e31",
   "metadata": {},
   "source": [
    "### 6. 다음 코드를 보고 물음에 답하시오."
   ]
  },
  {
   "cell_type": "markdown",
   "id": "0732d0ff",
   "metadata": {},
   "source": [
    "#### L1 = [1, 2, 3]\n",
    "#### L2 = [4, 5, 6]\n",
    "#### d = {'low':L1, 'high':L2}\n",
    "#### e = d\n",
    "#### f = d.copy()\n",
    "#### print(d)\n",
    "#### print(e)\n",
    "#### print(f)\n",
    "#### print()\n",
    "#### d['low'] = [10, 20, 30]\n",
    "#### d['high'][1] = 500\n",
    "#### print(d)\n",
    "#### print(e)\n",
    "#### print(f)"
   ]
  },
  {
   "cell_type": "markdown",
   "id": "fa80af2a",
   "metadata": {},
   "source": [
    "#### 1) 위 코드의 수행 결과 d와 e는 항상 같은 결과를 출력한다. 그 이유는 무엇인가?"
   ]
  },
  {
   "cell_type": "markdown",
   "id": "ea2e55c6",
   "metadata": {},
   "source": [
    "#### d와 e가 같은 객체를 참조하기 때문이다."
   ]
  },
  {
   "cell_type": "markdown",
   "id": "f1ade37f",
   "metadata": {},
   "source": [
    "#### 2) 위 코드의 수행 결과 마지막 f의 내용은 다음과 같다. 이 때 'high' 키의 값 내용 중 500이 출력된 이유와 'low' 키의 값 내용 중 [1, 2, 3]이 출력된 이유를 설명하시오 ([hint]: shallow copy 관점에서 설명하시오.)\n",
    "##### {'high': [4, 500, 6], 'low': [1, 2, 3]}"
   ]
  },
  {
   "cell_type": "markdown",
   "id": "d6144f74",
   "metadata": {},
   "source": [
    "#### 딕셔너리의 copy 메소드는 얕은 복사를 리턴하기 때문에 d와 f의 'low' 와 'high' 키는 각각 다른 객체를 참조하기 때문에 'low' 키의 값 내용이 변하지 않고 [1, 2, 3]이 출력되었고, d와 f의 요소의 리스트의 멤버는 같은 객체를 참조하기 때문에 d의 'high'키 값의 멤버를 변경하면 f의 'high'키의 멤버도 변하여 키 값의 내용에 500이 출력된다."
   ]
  },
  {
   "cell_type": "markdown",
   "id": "04ad56bf",
   "metadata": {},
   "source": []
  },
  {
   "cell_type": "markdown",
   "id": "b40a0b91",
   "metadata": {},
   "source": [
    "### 7. 사전 d = {'one':1, 'two':2, 'three':3, 'four':4, 'five':5}가 주어졌을 때 다음 요구사항에 맞는 코드를 제시하시오\n",
    "#### [참고]: d.keys(), d.values()를 통해 리스트를 얻어낸 후 리스트가 지니고 있는 sort(cmp=None, key=None, reverse=False)함수를 활용하시오.\n",
    "#### 1) 키의 알파벳 오름차순 순서대로 튜플 (키, 값)을 차례대로 출력하시오.\n",
    "#### 2) 키의 알파벳 내림차순 순서대로 튜플 (키, 값)을 차례대로 출력하시오.\n",
    "#### 3) 값의 오름차순 순서대로 튜플 (키, 값)을 차례대로 출력하시오.\n",
    "#### 4) 값의 내림차순 순서대로 튜플 (키, 값)을 차례대로 출력하시오."
   ]
  },
  {
   "cell_type": "code",
   "execution_count": 53,
   "id": "130f04b6",
   "metadata": {},
   "outputs": [
    {
     "name": "stdout",
     "output_type": "stream",
     "text": [
      "[('five', 5), ('four', 4), ('one', 1), ('three', 3), ('two', 2)]\n",
      "[('two', 2), ('three', 3), ('one', 1), ('four', 4), ('five', 5)]\n",
      "[('one', 1), ('two', 2), ('three', 3), ('four', 4), ('five', 5)]\n",
      "[('five', 5), ('four', 4), ('three', 3), ('two', 2), ('one', 1)]\n"
     ]
    }
   ],
   "source": [
    "d = {'one':1, 'two':2, 'three':3, 'four':4, 'five':5}\n",
    "l = []\n",
    "keylist = [i for i in d.keys()]\n",
    "valuelist = [i for i in d.values()]\n",
    "for i in range(0, len(d)) :\n",
    "    l.append((keylist[i], valuelist[i]))\n",
    "l.sort()\n",
    "print(l)\n",
    "l.sort(reverse = True)\n",
    "print(l)\n",
    "l.sort(key = lambda a : a[1])\n",
    "print(l)\n",
    "l.sort(key = lambda a : a[1], reverse = True)\n",
    "print(l)"
   ]
  },
  {
   "cell_type": "markdown",
   "id": "5a93be1d",
   "metadata": {},
   "source": []
  },
  {
   "cell_type": "markdown",
   "id": "aa14871f",
   "metadata": {},
   "source": [
    "### 8. 다음 문제를 정확히 읽고 적합한 코딩을 제시하시오.\n",
    "#### length(X)를 다음과 같이 정의한다 : 10진수로 표현된 X의 자릿수\n",
    "#### Strange라는 숫자를 아래과 같이 정의한다.\n",
    "#### 음이 아닌 정수 중 자릿수가 1인 모든 숫자는 Strange이다.\n",
    "#### length(X) > 1 인 숫자 X 는 다음 2가지를 만족하면 Strange이다.\n",
    "#### X는 length(X)로 정확히 나누어 떨어진다.\n",
    "#### X / length(X) 가 strnage이다.\n",
    "\n",
    "#### 이 문제에서 숫자 하나가 주어질 때, 이 숫자가 Strange인지 판단하는 함수 isStrange(num)을 작성하시오.\n",
    "#### isStrange(num) 함수가 재귀적인 함수가 되도록 작성해 보세요."
   ]
  },
  {
   "cell_type": "code",
   "execution_count": 74,
   "id": "6fa2c178",
   "metadata": {},
   "outputs": [
    {
     "name": "stdout",
     "output_type": "stream",
     "text": [
      "True\n",
      "True\n",
      "False\n",
      "True\n",
      "False\n"
     ]
    }
   ],
   "source": [
    "def length(x) :\n",
    "    temp = x\n",
    "    count = 1\n",
    "    while(True) :\n",
    "        if(int(temp/10) == 0) : break\n",
    "        else : \n",
    "            temp = int(temp/10)\n",
    "            count += 1\n",
    "    return count\n",
    "\n",
    "def isStrange(num) :\n",
    "    if(length(num) == 1) : return True\n",
    "    elif(num%length(num) == 0 and isStrange(int(num/length(num)))) : return True\n",
    "    return False\n",
    "\n",
    "print(isStrange(0))\n",
    "print(isStrange(56))\n",
    "print(isStrange(100))\n",
    "print(isStrange(7882602506492313600))\n",
    "print(isStrange(6012302549522098651))"
   ]
  },
  {
   "cell_type": "markdown",
   "id": "1abe10fd",
   "metadata": {},
   "source": [
    "### 9. 다음 문제를 정확히 읽고 적합한 코딩을 제시하시오.\n",
    "#### 1번 그룹, 2번 그룹, ... n번 그룹으로 번호가 매겨진 총 n개의 그룹이 존재하고, ith 그룹에는 임의의 팀원 수 ai 명이 있다.\n",
    "#### 하나의 버스 정류장이 있고, 버스는 오직 한 대만 운영한다. 버스는 버스 정류장에 도착하고 모든 그룹은 버스를 통해 여행하길 원한다.\n",
    "#### 하지만, 같은 그룹에 속한 팀원들은 분리되기를 원치 않는다. 그래서 그룹의 모든 팀원이 탈 수 있을 때 에만 그 그룹은 버스에 탑승한다.\n",
    "#### 또한, 이들은 그룹의 번호순으로 여행을 하길 원한다. 예를 들어, 3번 그룹은 1번 그룹과 2번 그룹이 여행을 한 뒤에 버스를 탈 수 있거나, 1번 그룹과 2번 그룹이 이미 버스에 탑승한 상태에 있을 때 동시에 버스를 탈 수 있다.\n",
    "#### 마지막으로, 버스는 빈 좌석이 없을 때 에만 여행을 떠난다.\n",
    "#### 이 문제에서 각 그룹의 팀원 수가 리스트로 주어질 때, 가능한 모든 버스의 사이즈 x(x명의 사람들이 동시에 탈 수 있음)를 반환하는 함수 solve(a) 를 작성하시오.\n",
    "#### [주의] 반드시 계산 복잡도를 최대한 낮추세요. 아래 예시 3번을 실행했을 때 결과가 바로 나타날 수 있도록!!"
   ]
  },
  {
   "cell_type": "code",
   "execution_count": 94,
   "id": "631cf49b",
   "metadata": {
    "scrolled": true
   },
   "outputs": [
    {
     "name": "stdout",
     "output_type": "stream",
     "text": [
      "[3, 4, 6, 12]\n",
      "[1, 2, 4]\n",
      "[9999, 19998, 39996, 49995, 79992, 99990, 199980, 249975, 399960, 499950, 999900, 1249875, 1999800, 2499750, 4999500, 9999000]\n"
     ]
    }
   ],
   "source": [
    "def solve(a) :\n",
    "    result = []\n",
    "    l = [sum(a[0:i+1]) for i in range(0,len(a))]\n",
    "    for x in l :\n",
    "        temp = 0\n",
    "        for j in a :\n",
    "            temp += j\n",
    "            if(temp > x) : break\n",
    "            elif(temp == x) : temp = 0\n",
    "        if(temp==0) : result.append(x)\n",
    "    return result\n",
    "\n",
    "print(solve([1, 2, 1, 1, 1, 2, 1, 3]))\n",
    "print(solve([1, 1, 1, 1] ))\n",
    "print(solve([9999] * 10**3))"
   ]
  },
  {
   "cell_type": "markdown",
   "id": "6bc72342",
   "metadata": {},
   "source": []
  },
  {
   "cell_type": "markdown",
   "id": "4b51e76d",
   "metadata": {},
   "source": [
    "### [Incremental Project 문제]"
   ]
  },
  {
   "cell_type": "markdown",
   "id": "c3bae823",
   "metadata": {},
   "source": [
    "### 이전 Assignment 2의 마지막 문제는 웹 URL로 지정된 웹페이지를 문자열로 가져와 모든 HTML 태그를 제외한 순수 텍스트를 얻어내고 그 안에 존재하는 단어를 추출하고 단어들의 총 개수를 출력하는 프로그램을 작성하는 것이었다. 이번에는 그 마지막 숙제를 그대로 확장하여 웹 URL로 지정된 웹페이지 내 순수 텍스트 안에 존재하는 각 단어들에 대해 다음 요구사항 대로 출력하는 프로그램을 작성하시오.\n",
    "\n",
    "#### 요구사항 1. CSS와 Javascript 내용도 모두 제거하시오 (이전 숙제에서 이미 제외하였다면 본 요구사항 무시)\n",
    "#### 요구사항 2. 순수 텍스트 안에 존재하는 단어들에 대해 string 모듈을 활용하여 모든 punctuation (구두문자)를 완벽히 제거하시오.\n",
    "#### 요구사항 3. 만약 punctuation (구두문자)를 제거한 이후 공백으로 판명되는 단어들은 해당 단어 리스트에서 제거하시오.\n",
    "#### 요구사항 3. 각 단어들의 출현빈도를 사전형태로 저장하여 출력하시오.\n",
    "#### 요구사항 4. 다음 5개의 사이트에 대한 단어 출현빈도 결과를 출력하시오."
   ]
  },
  {
   "cell_type": "code",
   "execution_count": 153,
   "id": "78153a6b",
   "metadata": {},
   "outputs": [],
   "source": [
    "#homework#2 에서 가져온 내용\n",
    "\n",
    "def removeJavascript(s) : #자바스크립트 코드 제거 함수\n",
    "    text = s\n",
    "    while(text.find(\"<script\") != -1) :\n",
    "        a = text.find(\"<script\")\n",
    "        b = text.find(\"</script>\")\n",
    "        text = text[:a] +\" \"+ text[b+9:]\n",
    "    return text\n",
    "\n",
    "def removeCSS(s) : #CSS 제거 함수\n",
    "    text = s\n",
    "    while(text.find(\"<style\") != -1) :\n",
    "        a = text.find(\"<style\")\n",
    "        b = text.find(\"</style>\")\n",
    "        text = text[:a] + \" \" + text[b+8:]\n",
    "    return text\n",
    "\n",
    "def removeTag(s) : # '<'로 시작해서 '>'로 끝나는 HTML 태그 삭제하는 함수\n",
    "    text = s\n",
    "    while(text.find(\"<\") != -1) :\n",
    "        a = text.find(\"<\")\n",
    "        b = text.find(\">\")\n",
    "        text = text[:a] +\" \"+ text[b+1:]\n",
    "    return text\n",
    "\n",
    "def removeHTML(s) : #종합하여 HTML코드를 삭제하는 함수\n",
    "    text = s\n",
    "    text = removeJavascript(text)\n",
    "    text = removeCSS(text)\n",
    "    text = removeTag(text)\n",
    "    return text.split()\n",
    "\n",
    "def countWord(list) : #단어가 몇개인지 세는 함수\n",
    "    return len(list)"
   ]
  },
  {
   "cell_type": "code",
   "execution_count": 154,
   "id": "5cb02192",
   "metadata": {},
   "outputs": [],
   "source": [
    "def removePunctuation(string) : #문자열에서 구두문자 제거 함수\n",
    "    punctuation = \"!\\\"#$%&'()*+,-./:;<=>?@[\\]^_`{|}~\"\n",
    "    result = string\n",
    "    for i in range(0,len(string)) :\n",
    "        if(punctuation.find(string[i]) >= 0) : result = result.replace(string[i],\"\")\n",
    "    return result\n",
    "\n",
    "def listremovePunc(list) : #리스트에서 구두문자 제거 및 공백 제거\n",
    "    result = list\n",
    "    i = 0\n",
    "    while(i<len(result)) :\n",
    "        result[i] = removePunctuation(result[i])\n",
    "        if(result[i] == \"\") : \n",
    "            result.pop(i)\n",
    "            i -= 1\n",
    "        i += 1\n",
    "    return result\n",
    "\n",
    "def frequency(list) : #리스트에서 각 단어의 출현빈도 사전형으로 반환\n",
    "    result = {}\n",
    "    for word in list :\n",
    "        if(result.get(word) == None) : result[word] = 1\n",
    "        else : \n",
    "            value = result.get(word)\n",
    "            result[word] = value + 1\n",
    "    return result"
   ]
  },
  {
   "cell_type": "code",
   "execution_count": 155,
   "id": "b5e349cb",
   "metadata": {},
   "outputs": [],
   "source": [
    "import requests\n",
    "\n",
    "req = requests.get('http://cse.koreatech.ac.kr')\n",
    "source1 = req.text\n",
    "req = requests.get('https://drive.google.com/drive/')\n",
    "source2 = req.text\n",
    "req = requests.get('https://www.google.co.kr/')\n",
    "source3 = req.text\n",
    "req = requests.get('https://fonts.google.com/')\n",
    "source4 = req.text\n",
    "req = requests.get('https://www.kakaocorp.com/page/')\n",
    "source5 = req.text"
   ]
  },
  {
   "cell_type": "code",
   "execution_count": 157,
   "id": "a54addee",
   "metadata": {
    "scrolled": true
   },
   "outputs": [
    {
     "name": "stdout",
     "output_type": "stream",
     "text": [
      "{'Page': 1, 'Redirection': 1, '사이트': 1, '폐쇄': 1, '안내': 1, '특성화': 1, '사업': 1, '종료로': 1, '인한': 1, 'itcswkoreatechackr': 1, '사이트가': 1, '폐쇄되었습니다': 1, '잠시후': 1, '컴퓨터공학부': 1, '홈페이지로': 1, '자동': 1, '연결': 1, '됩니다': 1, 'If': 1, 'you': 1, 'are': 1, 'not': 1, 'redirected': 1, 'automatically': 1, 'follow': 1, 'the': 1, 'link': 1, 'to': 1, 'csekoreatechackr': 1}\n"
     ]
    }
   ],
   "source": [
    "print(frequency(listremovePunc(removeHTML(source1))))"
   ]
  },
  {
   "cell_type": "code",
   "execution_count": 158,
   "id": "2a30cb2c",
   "metadata": {},
   "outputs": [
    {
     "name": "stdout",
     "output_type": "stream",
     "text": [
      "{'Google': 5, 'Drive': 1, '모든': 2, '파일을': 1, '한': 1, '곳에서': 1, '하나의': 1, '계정으로': 2, '서비스를': 1, 'Drive로': 1, '이동하려면': 1, '로그인하세요': 1, '이메일': 1, '주소': 1, '입력': 1, '내': 1, '계정': 3, '찾기': 1, '다른': 1, '로그인': 1, '만들기': 1, '하나면': 1, 'OK': 1, '정보': 1, '개인정보처리방침': 1, '약관': 1, '도움말': 1}\n"
     ]
    }
   ],
   "source": [
    "print(frequency(listremovePunc(removeHTML(source2))))"
   ]
  },
  {
   "cell_type": "code",
   "execution_count": 159,
   "id": "a68d3d68",
   "metadata": {},
   "outputs": [
    {
     "name": "stdout",
     "output_type": "stream",
     "text": [
      "{'Google': 2, '검색': 1, '이미지': 1, '지도': 1, 'Play': 1, 'YouTube': 1, '뉴스': 1, 'Gmail': 1, '드라이브': 1, '더보기': 1, 'raquo': 1, '웹': 1, '기록': 1, '설정': 1, '로그인': 1, 'nbsp': 1, '고급검색': 1, '광고': 1, '프로그램': 1, '비즈니스': 1, '솔루션': 1, '정보': 1, 'Googlecom': 1, 'copy': 1, '2021': 1, '개인정보처리방침': 1, '약관': 1}\n"
     ]
    }
   ],
   "source": [
    "print(frequency(listremovePunc(removeHTML(source3))))"
   ]
  },
  {
   "cell_type": "code",
   "execution_count": 160,
   "id": "63b1046b",
   "metadata": {},
   "outputs": [
    {
     "name": "stdout",
     "output_type": "stream",
     "text": [
      "{'Google': 1, 'Fonts': 1}\n"
     ]
    }
   ],
   "source": [
    "print(frequency(listremovePunc(removeHTML(source4))))"
   ]
  },
  {
   "cell_type": "code",
   "execution_count": 161,
   "id": "ae4646ad",
   "metadata": {},
   "outputs": [
    {
     "name": "stdout",
     "output_type": "stream",
     "text": [
      "{'카카오': 17, '이': 1, '페이지를': 1, '실행하려면': 1, '자바스크립트를': 1, '사용해야': 1, '합니다': 1, '본문': 2, '바로가기': 25, '메뉴': 4, 'KaKao': 2, '메인': 2, '열기': 2, '검색창': 1, '메인메뉴': 1, '문화': 2, '공동체': 2, '히스토리': 2, '뉴스': 2, '기술과': 2, '서비스': 16, '기술': 2, '약속과': 2, '책임': 2, 'ESG': 2, '소셜임팩트': 2, '디지털': 2, '권리': 2, 'AI': 3, '윤리': 2, '투자정보': 2, '인재영입': 2, '고객센터': 7, 'Daum': 7, '멜론': 1, '다크모드로': 1, '변경하기': 1, '영어로': 1, '보기': 1, '닫기': 1, '홈': 1, '현재': 1, '페이지': 1, '위치': 1, '오늘의': 2, '10월': 1, '13일': 1, '수요일': 1, '소식': 2, '개의': 1, '업데이트된': 1, '하단': 1, '기업지배구조': 1, '주가정보': 1, '재무정보': 1, 'IR행사': 1, '공시정보': 1, '공고': 1, '사이트': 25, '카카오계정': 2, '이용정보': 1, '이용약관': 1, '위치기반서비스이용약관': 1, '개인정보처리방침': 1, '기업사이트': 2, '운영정책': 1, '청소년보호정책': 1, '권리침해신고안내': 1, '공지사항': 1, '사이버윤리실': 1, 'Contact': 1, 'Us': 1, '관련사이트': 1, '프라이버시': 1, '디벨로퍼스': 1, '다음': 1, '포털': 1, '동반': 1, '성장': 1, '제주': 1, 'with': 1, 'kakao': 1, '©': 1, 'Kakao': 1, 'Corp': 1, 'All': 1, 'rights': 1, 'reserved': 1}\n"
     ]
    }
   ],
   "source": [
    "print(frequency(listremovePunc(removeHTML(source5))))"
   ]
  }
 ],
 "metadata": {
  "kernelspec": {
   "display_name": "Python 3",
   "language": "python",
   "name": "python3"
  },
  "language_info": {
   "codemirror_mode": {
    "name": "ipython",
    "version": 3
   },
   "file_extension": ".py",
   "mimetype": "text/x-python",
   "name": "python",
   "nbconvert_exporter": "python",
   "pygments_lexer": "ipython3",
   "version": "3.8.8"
  }
 },
 "nbformat": 4,
 "nbformat_minor": 5
}
