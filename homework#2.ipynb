{
 "cells": [
  {
   "cell_type": "markdown",
   "id": "871852f9",
   "metadata": {},
   "source": [
    "### 1. 다음 6 개의 Expression에 대해 Evaluation 결과 값을 출력하고, 해당 결과가 나온 이유에 대해 설명하시오"
   ]
  },
  {
   "cell_type": "markdown",
   "id": "87429573",
   "metadata": {},
   "source": [
    "#### 1 and 2 and 3 and 4"
   ]
  },
  {
   "cell_type": "code",
   "execution_count": 1,
   "id": "b5d235eb",
   "metadata": {},
   "outputs": [
    {
     "name": "stdout",
     "output_type": "stream",
     "text": [
      "4\n"
     ]
    }
   ],
   "source": [
    "print(1 and 2 and 3 and 4)"
   ]
  },
  {
   "cell_type": "markdown",
   "id": "c697a8cb",
   "metadata": {},
   "source": [
    "#### 1, 2, 3, 4의 값 모두 참의 값이기 때문에 마지막 값인 4를 반환한다."
   ]
  },
  {
   "cell_type": "markdown",
   "id": "985b577e",
   "metadata": {},
   "source": [
    "#### 1 or 2 or 3 or 4"
   ]
  },
  {
   "cell_type": "code",
   "execution_count": 2,
   "id": "2edba26c",
   "metadata": {},
   "outputs": [
    {
     "name": "stdout",
     "output_type": "stream",
     "text": [
      "1\n"
     ]
    }
   ],
   "source": [
    "print(1 or 2 or 3 or 4)"
   ]
  },
  {
   "cell_type": "markdown",
   "id": "6435e51f",
   "metadata": {},
   "source": [
    "#### 1의 값이 참이기 때문에 뒤의 연산은 신경쓰지 않고 1을 반환한다."
   ]
  },
  {
   "cell_type": "markdown",
   "id": "be48cd45",
   "metadata": {},
   "source": [
    "#### 1 and 2 or 3 and 4"
   ]
  },
  {
   "cell_type": "code",
   "execution_count": 3,
   "id": "67792483",
   "metadata": {},
   "outputs": [
    {
     "name": "stdout",
     "output_type": "stream",
     "text": [
      "2\n"
     ]
    }
   ],
   "source": [
    "print(1 and 2 or 3 and 4)"
   ]
  },
  {
   "cell_type": "markdown",
   "id": "4d95b83d",
   "metadata": {},
   "source": [
    "#### and 연산자가 or 연산자보다 우선순위가 높기 때문에 1 and 2에서 2, 3 and 4에서 4를 반환한 후 2 or 4에서 2를 반환한다."
   ]
  },
  {
   "cell_type": "markdown",
   "id": "7a21bd90",
   "metadata": {},
   "source": [
    "#### (1 and 2) or (3 and 4)"
   ]
  },
  {
   "cell_type": "code",
   "execution_count": 4,
   "id": "a7123f88",
   "metadata": {},
   "outputs": [
    {
     "name": "stdout",
     "output_type": "stream",
     "text": [
      "2\n"
     ]
    }
   ],
   "source": [
    "print((1 and 2) or (3 and 4))"
   ]
  },
  {
   "cell_type": "markdown",
   "id": "984a6ec9",
   "metadata": {},
   "source": [
    "#### (1 and 2) 에서 2, (3 and 4) 에서 4를 반환후 2 or 4에서 2를 반환한다."
   ]
  },
  {
   "cell_type": "markdown",
   "id": "786bb103",
   "metadata": {},
   "source": [
    "#### 1 or 2 and 3 or 4"
   ]
  },
  {
   "cell_type": "code",
   "execution_count": 5,
   "id": "896c9089",
   "metadata": {
    "scrolled": true
   },
   "outputs": [
    {
     "name": "stdout",
     "output_type": "stream",
     "text": [
      "1\n"
     ]
    }
   ],
   "source": [
    "print( 1 or 2 and 3 or 4 )"
   ]
  },
  {
   "cell_type": "markdown",
   "id": "d4a05815",
   "metadata": {},
   "source": [
    "#### and연산자가 우선순위가 높으므로 2 and 3 에서 3이 반환되고 1 or 3 or 4 에서 1이 반환된다."
   ]
  },
  {
   "cell_type": "markdown",
   "id": "f809a1d8",
   "metadata": {},
   "source": [
    "#### (1 or 2) and (3 or 4)"
   ]
  },
  {
   "cell_type": "code",
   "execution_count": 6,
   "id": "516a0b2f",
   "metadata": {},
   "outputs": [
    {
     "name": "stdout",
     "output_type": "stream",
     "text": [
      "3\n"
     ]
    }
   ],
   "source": [
    "print( (1 or 2) and (3 or 4) )"
   ]
  },
  {
   "cell_type": "markdown",
   "id": "852efd68",
   "metadata": {},
   "source": [
    "#### (1 or 2 ) 에서 1, (3 or 4) 에서 3이 반환되고 1 and 3에서 3이 반환된다."
   ]
  },
  {
   "cell_type": "markdown",
   "id": "d8f89597",
   "metadata": {},
   "source": []
  },
  {
   "cell_type": "markdown",
   "id": "f8d8b0c8",
   "metadata": {},
   "source": [
    "### 2. 경로에 해당하는 문자열 1개를 입력 받아 그 안에 디렉토리 경로명과 파일명을 분리하여 리스트로 반환하는 함수 div_path(s)를 작성하시오."
   ]
  },
  {
   "cell_type": "markdown",
   "id": "6c52e367",
   "metadata": {},
   "source": [
    "#### 인자로 전달하는 문자열은 경로만 들어간다고 가정한다."
   ]
  },
  {
   "cell_type": "markdown",
   "id": "a1e1bb6d",
   "metadata": {},
   "source": [
    "#### 각 디렉토리와 파일을 구분하는 문자는 '/'로 가정한다."
   ]
  },
  {
   "cell_type": "markdown",
   "id": "cb2238a2",
   "metadata": {},
   "source": [
    "#### 반환하는 리스트의 첫번째 원소는 디렉토리이고 두번째 원소는 파일명이다."
   ]
  },
  {
   "cell_type": "markdown",
   "id": "42f4f623",
   "metadata": {},
   "source": [
    "#### 다음과 같은 실행 및 출력 결과가 도출되어야 한다."
   ]
  },
  {
   "cell_type": "markdown",
   "id": "a313ff64",
   "metadata": {},
   "source": [
    "##### div_path('/usr/local/bin/python') -> ['/usr/local/bin', 'python']"
   ]
  },
  {
   "cell_type": "markdown",
   "id": "93c42973",
   "metadata": {},
   "source": [
    "##### div_path('/home/chulsoo/test.txt') -> ['/home/chulsoo', 'test.txt']"
   ]
  },
  {
   "cell_type": "markdown",
   "id": "f57fa201",
   "metadata": {},
   "source": [
    "#### [참고] 리스트(l) 내에 새로운 정수값 (예를 들어 10)을 넣는 방법은 l.append(10) 이다."
   ]
  },
  {
   "cell_type": "code",
   "execution_count": 8,
   "id": "6da63097",
   "metadata": {},
   "outputs": [
    {
     "name": "stdout",
     "output_type": "stream",
     "text": [
      "['/usr/local/bin', 'python']\n",
      "['/home/chulsoo', 'test.txt']\n"
     ]
    }
   ],
   "source": [
    "def div_path(s) :\n",
    "    index = s.rfind(\"/\")\n",
    "    result = []\n",
    "    result.append(s[0:index])\n",
    "    result.append(s[index+1:])\n",
    "    return result\n",
    "\n",
    "print(div_path('/usr/local/bin/python'))\n",
    "print(div_path('/home/chulsoo/test.txt'))"
   ]
  },
  {
   "cell_type": "markdown",
   "id": "9d144679",
   "metadata": {},
   "source": []
  },
  {
   "cell_type": "markdown",
   "id": "f8f1b011",
   "metadata": {},
   "source": [
    "### 3. 두 개의 리스트를 인자로 받아서 그 두 개의 리스트에 대한 '합집합'을 반환하는 함수 list_union(lista, listb)를 작성하시오."
   ]
  },
  {
   "cell_type": "markdown",
   "id": "326a4da7",
   "metadata": {},
   "source": [
    "#### 집합 자료형 set은 사용하지 않는다."
   ]
  },
  {
   "cell_type": "markdown",
   "id": "c081c428",
   "metadata": {},
   "source": [
    "#### 인자로 전달하는 리스트 2 개에는 정수값만 들어간다고 가정하자."
   ]
  },
  {
   "cell_type": "markdown",
   "id": "ed583260",
   "metadata": {},
   "source": [
    "#### 함수 내에서 새로운 리스트를 만들어 그 리스트 내에 인자로 받은 두 리스트의 모든 원소를 넣어 반환한다."
   ]
  },
  {
   "cell_type": "markdown",
   "id": "8c731d05",
   "metadata": {},
   "source": [
    "#### 반환하는 리스트에는 절대로 중복된 원소가 들어 있으면 안된다 (집합의 조건)."
   ]
  },
  {
   "cell_type": "markdown",
   "id": "9b76ac6d",
   "metadata": {},
   "source": [
    "#### 반환하는 리스트는 정렬이 되어 있어야 한다."
   ]
  },
  {
   "cell_type": "markdown",
   "id": "521a0af6",
   "metadata": {},
   "source": [
    "#### 다음과 같은 실행 및 출력 결과가 도출되어야 한다."
   ]
  },
  {
   "cell_type": "markdown",
   "id": "cc829934",
   "metadata": {},
   "source": [
    "##### list_union([1, 2, 3], [1, 2, 4]) -> [1, 2, 3, 4]"
   ]
  },
  {
   "cell_type": "markdown",
   "id": "21a52ab8",
   "metadata": {},
   "source": [
    "##### list_union([-10, -5, 0, -1], [100, 9, 0, 9]) -> [-10, -5, -1, 0, 9, 100]"
   ]
  },
  {
   "cell_type": "markdown",
   "id": "57b53310",
   "metadata": {},
   "source": [
    "##### list_union([0, 1, 2], [0, 1, 2]) -> [0, 1, 2]"
   ]
  },
  {
   "cell_type": "markdown",
   "id": "aa56ef13",
   "metadata": {},
   "source": [
    "#### [참고] 리스트(l) 내에 새로운 정수값 (예를 들어 10)을 넣는 방법은 l.append(10) 이다."
   ]
  },
  {
   "cell_type": "markdown",
   "id": "d94b593f",
   "metadata": {},
   "source": [
    "#### [참고] 임의의 정수값 (x)이 리스트 (l) 내에 존재하는지 판단하는 방법은 x in l 이다."
   ]
  },
  {
   "cell_type": "code",
   "execution_count": 17,
   "id": "20d0c7de",
   "metadata": {},
   "outputs": [
    {
     "name": "stdout",
     "output_type": "stream",
     "text": [
      "[1, 2, 3, 4]\n",
      "[-10, -5, -1, 0, 9, 100]\n",
      "[0, 1, 2]\n"
     ]
    }
   ],
   "source": [
    "def nooverlap(lista) : #중복 제거 함수\n",
    "    result = []\n",
    "    for i in lista :\n",
    "        count = 0\n",
    "        for j in result :\n",
    "            if(i == j) : count += 1\n",
    "        if(count == 0) : result.append(i)\n",
    "    return result\n",
    "\n",
    "def list_sort(lista) : #리스트 정렬 함수\n",
    "    result = []\n",
    "    a = lista\n",
    "    while(len(a)>0) :\n",
    "        min = 0\n",
    "        for j in range(1,len(a)) :\n",
    "            if(a[j]<a[min]) : min = j\n",
    "        result.append(a.pop(min))\n",
    "    return result\n",
    "\n",
    "def list_union(lista, listb) :\n",
    "    list_sum = nooverlap(lista+listb)\n",
    "    return list_sort(list_sum)\n",
    "\n",
    "print(list_union([1, 2, 3], [1, 2, 4]))\n",
    "print(list_union([-10, -5, 0, -1], [100, 9, 0, 9]))\n",
    "print(list_union([0, 1, 2], [0, 1, 2]))"
   ]
  },
  {
   "cell_type": "markdown",
   "id": "953f629e",
   "metadata": {},
   "source": [
    "### 4. 두 개의 리스트를 인자로 받아서 그 두 개의 리스트에 대한 '교집합'을 반환하는 함수 list_intersection(lista, listb)와 '차집합'을 반환하는 함수 list_difference(lista, listb)를 작성하시오."
   ]
  },
  {
   "cell_type": "markdown",
   "id": "e340f09e",
   "metadata": {},
   "source": [
    "#### 모든 가정과 조건은 3번 문제와 동일하다."
   ]
  },
  {
   "cell_type": "code",
   "execution_count": 21,
   "id": "2d40ce43",
   "metadata": {},
   "outputs": [
    {
     "name": "stdout",
     "output_type": "stream",
     "text": [
      "교집합\n",
      "[1, 2]\n",
      "[0]\n",
      "[0, 1, 2]\n",
      "차집합(a - b)\n",
      "[3]\n",
      "[-10, -5, -1]\n",
      "[]\n"
     ]
    }
   ],
   "source": [
    "# 3번문제에서 만든 nooverlap(중복제거)함수와 list_sort(정렬)함수를 이용\n",
    "def list_intersection(lista, listb) :\n",
    "    a = nooverlap(lista)\n",
    "    b = nooverlap(listb)\n",
    "    result = []\n",
    "    for i in a :\n",
    "        if(i in b) : result.append(i)\n",
    "    return list_sort(result)\n",
    "\n",
    "def list_difference(lista, listb) :\n",
    "    a = nooverlap(lista)\n",
    "    b = list_intersection(lista, listb)\n",
    "    for i in b :\n",
    "        a.remove(i)\n",
    "    return list_sort(a)\n",
    "\n",
    "print(\"교집합\")\n",
    "print(list_intersection([1, 2, 3], [1, 2, 4]))\n",
    "print(list_intersection([-10, -5, 0, -1], [100, 9, 0, 9]))\n",
    "print(list_intersection([0, 1, 2], [0, 1, 2]))\n",
    "print(\"차집합(a - b)\")\n",
    "print(list_difference([1, 2, 3], [1, 2, 4]))\n",
    "print(list_difference([-10, -5, 0, -1], [100, 9, 0, 9]))\n",
    "print(list_difference([0, 1, 2], [0, 1, 2]))"
   ]
  },
  {
   "cell_type": "markdown",
   "id": "e36f98ae",
   "metadata": {},
   "source": [
    "### 5. 두 개의 양의 정수를 인자로 받아서 해당 범위안에 있는 소수(prime number)의 리스트를 출력하는 함수 print_primenumber(a, b)를 작성하시오."
   ]
  },
  {
   "cell_type": "markdown",
   "id": "01be0f16",
   "metadata": {},
   "source": [
    "#### 이미 구현된 모듈이나 라이브러리는 사용하지 않는다."
   ]
  },
  {
   "cell_type": "markdown",
   "id": "228d3363",
   "metadata": {},
   "source": [
    "#### 함수의 반환(return)은 없으며 함수 내의 끝에서 .format()을 사용하여 다음과 같이 출력한다."
   ]
  },
  {
   "cell_type": "markdown",
   "id": "f4b0bf19",
   "metadata": {},
   "source": [
    "##### print_primenumber(2, 10) -> 2 이상 10 이하 정수 중 소수 리스트: [2, 3, 5, 7]"
   ]
  },
  {
   "cell_type": "code",
   "execution_count": 25,
   "id": "90b83a9f",
   "metadata": {},
   "outputs": [
    {
     "name": "stdout",
     "output_type": "stream",
     "text": [
      "2 이상 10 이하 정수 중 소수 리스트 : [2, 3, 5, 7]\n"
     ]
    }
   ],
   "source": [
    "def print_primenumber(a,b) :\n",
    "    result = []\n",
    "    for i in range(a, b+1) :\n",
    "        count = 0\n",
    "        for j in range(1,i+1) :\n",
    "            if(i%j == 0) : count += 1\n",
    "        if(count == 2) : result.append(i)\n",
    "    print(\"%d 이상 %d 이하 정수 중 소수 리스트 :\" %(a,b),result)\n",
    "    \n",
    "print_primenumber(2, 10)"
   ]
  },
  {
   "cell_type": "markdown",
   "id": "6d1afbf6",
   "metadata": {},
   "source": [
    "### [Incremental Project 문제]"
   ]
  },
  {
   "cell_type": "markdown",
   "id": "fbb70ab6",
   "metadata": {},
   "source": [
    "### 웹 URL로 지정된 웹페이지를 문자열로 가져와 1) 모든 HTML 태그를 제외한 순수 텍스트 문자열만을 걸러내고, 2) 그 순수 텍스트 문자열 안에 존재하는 단어가 총 몇개인지 출력하는 프로그램을 작성하시오."
   ]
  },
  {
   "cell_type": "code",
   "execution_count": 21,
   "id": "97ce64f1",
   "metadata": {
    "scrolled": false
   },
   "outputs": [],
   "source": [
    "import requests\n",
    "\n",
    "req = requests.get('https://www.google.co.kr/') #구글\n",
    "source1 = req.text\n",
    "req = requests.get(\"https://www.kakaocorp.com/page/\") #카카오\n",
    "source2 = req.text\n"
   ]
  },
  {
   "cell_type": "code",
   "execution_count": 60,
   "id": "0958cf4f",
   "metadata": {},
   "outputs": [],
   "source": [
    "def removeJavascript(s) : #자바스크립트 코드 제거 함수\n",
    "    text = s\n",
    "    while(text.find(\"<script\") != -1) :\n",
    "        a = text.find(\"<script\")\n",
    "        b = text.find(\"</script>\")\n",
    "        text = text[:a] +\" \"+ text[b+9:]\n",
    "    return text\n",
    "\n",
    "def removeCSS(s) : #CSS 제거 함수\n",
    "    text = s\n",
    "    while(text.find(\"<style\") != -1) :\n",
    "        a = text.find(\"<style\")\n",
    "        b = text.find(\"</style>\")\n",
    "        text = text[:a] + \" \" + text[b+8:]\n",
    "    return text\n",
    "\n",
    "def removeTag(s) : # '<'로 시작해서 '>'로 끝나는 HTML 태그 삭제하는 함수\n",
    "    text = s\n",
    "    while(text.find(\"<\") != -1) :\n",
    "        a = text.find(\"<\")\n",
    "        b = text.find(\">\")\n",
    "        text = text[:a] +\" \"+ text[b+1:]\n",
    "    return text\n",
    "\n",
    "def removeHTML(s) : #종합하여 HTML코드를 삭제하는 함수\n",
    "    text = s\n",
    "    text = removeJavascript(text)\n",
    "    text = removeCSS(text)\n",
    "    text = removeTag(text)\n",
    "    return text\n",
    "\n",
    "def countWord(s) : #단어가 몇개인지 세는 함수\n",
    "    text = s\n",
    "    i = 0\n",
    "    words = []\n",
    "    while(i<len(text)) :\n",
    "        j = i+1\n",
    "        if(text[i] != \" \" and text[i] != \"\\n\" and text[i] != \"\\r\") :\n",
    "            while(j<len(text)) :\n",
    "                if(text[j] == \" \" or text[i] == \"\\n\" or text[i] == \"\\r\") : \n",
    "                    break\n",
    "                else : j += 1\n",
    "            words.append(text[i:j])\n",
    "        i = j\n",
    "    return len(words)"
   ]
  },
  {
   "cell_type": "code",
   "execution_count": 24,
   "id": "8e15f6e7",
   "metadata": {
    "scrolled": true
   },
   "outputs": [],
   "source": [
    "#print(source1)"
   ]
  },
  {
   "cell_type": "code",
   "execution_count": 25,
   "id": "4a0ee4dd",
   "metadata": {},
   "outputs": [],
   "source": [
    "#print(source2)"
   ]
  },
  {
   "cell_type": "code",
   "execution_count": 39,
   "id": "c67f45e4",
   "metadata": {
    "scrolled": true
   },
   "outputs": [
    {
     "name": "stdout",
     "output_type": "stream",
     "text": [
      "      Google            검색   이미지   지도   Play   YouTube   뉴스   Gmail   드라이브    더보기  &raquo;            웹 기록  |  설정  |  로그인                   &nbsp;                              고급검색                광고 프로그램  비즈니스 솔루션  Google 정보  Google.com    &copy; 2021 -  개인정보처리방침  -  약관                    \n"
     ]
    }
   ],
   "source": [
    "source1_noHTML = removeHTML(source1)\n",
    "print(source1_noHTML) #구글 걸러내기"
   ]
  },
  {
   "cell_type": "code",
   "execution_count": 40,
   "id": "43c676d6",
   "metadata": {
    "scrolled": true
   },
   "outputs": [
    {
     "name": "stdout",
     "output_type": "stream",
     "text": [
      " \n",
      " \n",
      "   \n",
      "     카카오                     \n",
      "   \n",
      "   \n",
      "     이 페이지를 실행하려면 자바스크립트를 사용해야 합니다.      본문 바로가기   메뉴 바로가기         KaKao       메인 메뉴 열기       검색창 열기           KaKao       메인메뉴        카카오      \n",
      "                    카카오 문화\n",
      "                      \n",
      "                    공동체\n",
      "                      \n",
      "                    히스토리\n",
      "                           뉴스          기술과 서비스      \n",
      "                    기술\n",
      "                      \n",
      "                    서비스\n",
      "                           약속과 책임      \n",
      "                    ESG\n",
      "                      \n",
      "                    소셜임팩트\n",
      "                      \n",
      "                    디지털 권리\n",
      "                      \n",
      "                    AI 윤리\n",
      "                             투자정보    인재영입    \n",
      "                고객센터        카카오 고객센터         Daum 고객센터         멜론 고객센터             다크모드로 변경하기         영어로 보기          메인 메뉴 닫기           홈 본문     현재 페이지 위치      오늘의 카카오           \n",
      "          오늘의 카카오\n",
      "           10월 2일 토요일 소식  개의 업데이트된 소식                 하단 메뉴     \n",
      "            카카오        카카오 문화      공동체      히스토리         \n",
      "              뉴스          \n",
      "            기술과 서비스        기술      서비스        \n",
      "            약속과 책임        ESG      소셜임팩트      디지털 권리      AI 윤리         \n",
      "            투자정보        기업지배구조      주가정보      재무정보      IR행사      공시정보      공고          \n",
      "              고객센터         \n",
      "                  카카오 고객센터 사이트 바로가기         \n",
      "                  Daum 고객센터 사이트 바로가기            \n",
      "              인재영입 사이트 바로가기          \n",
      "              카카오계정 사이트 바로가기          서비스 이용정보     \n",
      "              이용약관       \n",
      "                    카카오계정 서비스 사이트 바로가기        \n",
      "                    카카오 서비스 사이트 바로가기        \n",
      "                    Daum 서비스 사이트 바로가기         \n",
      "              위치기반서비스이용약관       \n",
      "                    카카오 서비스 사이트 바로가기        \n",
      "                    Daum 서비스 사이트 바로가기         \n",
      "              개인정보처리방침       \n",
      "                    기업사이트 사이트 바로가기        \n",
      "                    카카오 서비스 사이트 바로가기        \n",
      "                    Daum 서비스 사이트 바로가기          운영정책       \n",
      "              청소년보호정책       \n",
      "                    카카오 서비스 사이트 바로가기        \n",
      "                    Daum 서비스 사이트 바로가기          권리침해신고안내       \n",
      "              공지사항       \n",
      "                    기업사이트 사이트 바로가기        \n",
      "                    카카오 서비스 사이트 바로가기        \n",
      "                    Daum 서비스 사이트 바로가기          사이버윤리실        Contact Us          \n",
      "            관련사이트         \n",
      "                  카카오 AI 사이트 바로가기         \n",
      "                  카카오 프라이버시 사이트 바로가기         \n",
      "                  카카오 디벨로퍼스 사이트 바로가기         \n",
      "                  다음 포털 사이트 사이트 바로가기         \n",
      "                  동반 성장 사이트 사이트 바로가기         \n",
      "                  제주 with kakao 사이트 바로가기         \n",
      "        ©  Kakao Corp.  All\n",
      "        rights reserved.\n",
      "                      \n",
      "   \n",
      " \n",
      "\n"
     ]
    }
   ],
   "source": [
    "source2_noHTML = removeHTML(source2)\n",
    "print(source2_noHTML) #구글 걸러내기"
   ]
  },
  {
   "cell_type": "code",
   "execution_count": 61,
   "id": "5aeaa260",
   "metadata": {
    "scrolled": true
   },
   "outputs": [
    {
     "name": "stdout",
     "output_type": "stream",
     "text": [
      "첫번째 웹페이지 단어 개수 : 32\n",
      "두번째 웹페이지 단어 개수 : 207\n"
     ]
    }
   ],
   "source": [
    "print(\"첫번째 웹페이지 단어 개수 : \"+str(countWord(source1_noHTML)))\n",
    "print(\"두번째 웹페이지 단어 개수 : \"+str(countWord(source2_noHTML)))"
   ]
  }
 ],
 "metadata": {
  "kernelspec": {
   "display_name": "Python 3",
   "language": "python",
   "name": "python3"
  },
  "language_info": {
   "codemirror_mode": {
    "name": "ipython",
    "version": 3
   },
   "file_extension": ".py",
   "mimetype": "text/x-python",
   "name": "python",
   "nbconvert_exporter": "python",
   "pygments_lexer": "ipython3",
   "version": "3.8.8"
  }
 },
 "nbformat": 4,
 "nbformat_minor": 5
}
