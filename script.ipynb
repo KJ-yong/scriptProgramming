{
 "cells": [
  {
   "cell_type": "markdown",
   "id": "a4e79b0a",
   "metadata": {},
   "source": [
    "# 2018136020 김재용 스크립트프로그래밍 Homework#1"
   ]
  },
  {
   "cell_type": "markdown",
   "id": "cf1fde83",
   "metadata": {},
   "source": [
    "#### 1. a=\"Hello Python\" 문자열을 Slicing과 연결 연산자 (+)를 사용하여 \"Python Hello\"로 변경하시오.\n",
    "#### [주의] a 변수 자체에 \"Python Hello\" 문자열이 저장되어야 함"
   ]
  },
  {
   "cell_type": "code",
   "execution_count": 1,
   "id": "71775e5c",
   "metadata": {},
   "outputs": [
    {
     "data": {
      "text/plain": [
       "'Python Hello'"
      ]
     },
     "execution_count": 1,
     "metadata": {},
     "output_type": "execute_result"
    }
   ],
   "source": [
    "a = \"Hello Python\"\n",
    "a = a[6:]+a[5:6]+a[:5]\n",
    "a"
   ]
  },
  {
   "cell_type": "markdown",
   "id": "f954f565",
   "metadata": {},
   "source": [
    "#### 2. b=\"Hello Python World\" 문자열을 Slicing과 연결 연산자 (+)를 사용하여 \"World Python Hello\"로 변경하시오.\n",
    "#### [주의] b 변수 자체에 \"World Python Hello\" 문자열이 저장되어야 함"
   ]
  },
  {
   "cell_type": "code",
   "execution_count": 2,
   "id": "cc25da87",
   "metadata": {},
   "outputs": [
    {
     "data": {
      "text/plain": [
       "'World Python Hello'"
      ]
     },
     "execution_count": 2,
     "metadata": {},
     "output_type": "execute_result"
    }
   ],
   "source": [
    "b = \"Hello Python World\"\n",
    "b = b[13:]+b[12:13]+b[6:12]+b[5:6]+b[:5]\n",
    "b"
   ]
  },
  {
   "cell_type": "markdown",
   "id": "ac2b4938",
   "metadata": {},
   "source": [
    "#### 3. c=\"Hello\"를 \"olleH\"로 변경하시오\n",
    "#### [주의] c 변수 자체에 \"olleH\" 문자열이 저장되어야 함"
   ]
  },
  {
   "cell_type": "code",
   "execution_count": 13,
   "id": "8d979ea8",
   "metadata": {},
   "outputs": [
    {
     "data": {
      "text/plain": [
       "'olleH'"
      ]
     },
     "execution_count": 13,
     "metadata": {},
     "output_type": "execute_result"
    }
   ],
   "source": [
    "c = \"Hello\"\n",
    "c = c[::-1]\n",
    "c"
   ]
  },
  {
   "cell_type": "markdown",
   "id": "26700f02",
   "metadata": {},
   "source": [
    "#### 4. s=\"python\"에 대해 다음 문제를 풀어보시오"
   ]
  },
  {
   "cell_type": "markdown",
   "id": "2a12ea48",
   "metadata": {},
   "source": [
    "##### A. s[0], s[0][0], s[0][0][0]은 각각 어떤 값이 나오는지 확인하고 그 이유를 나름대로 설명해 보시오."
   ]
  },
  {
   "cell_type": "code",
   "execution_count": 21,
   "id": "05553529",
   "metadata": {},
   "outputs": [
    {
     "name": "stdout",
     "output_type": "stream",
     "text": [
      "p\n",
      "p\n",
      "p\n"
     ]
    }
   ],
   "source": [
    "s = \"python\"\n",
    "print(s[0])\n",
    "print(s[0][0])\n",
    "print(s[0][0][0])"
   ]
  },
  {
   "cell_type": "markdown",
   "id": "5b91de10",
   "metadata": {},
   "source": [
    "문자열을 인덱스를 사용하여 문자로 구성된 리스트 처럼 다룰 수 있기 때문에 0번 자리인 'p' 가 출력된다."
   ]
  },
  {
   "cell_type": "markdown",
   "id": "8a218005",
   "metadata": {},
   "source": [
    "#### B. s[-100], s[100]은 값이 나오는지 에러가 나오는지 확인하고 그 결과에 대한 이유를 나름대로 설명해 보시오."
   ]
  },
  {
   "cell_type": "code",
   "execution_count": 26,
   "id": "a1f98680",
   "metadata": {},
   "outputs": [
    {
     "ename": "IndexError",
     "evalue": "string index out of range",
     "output_type": "error",
     "traceback": [
      "\u001b[1;31m---------------------------------------------------------------------------\u001b[0m",
      "\u001b[1;31mIndexError\u001b[0m                                Traceback (most recent call last)",
      "\u001b[1;32m<ipython-input-26-142e48f823a8>\u001b[0m in \u001b[0;36m<module>\u001b[1;34m\u001b[0m\n\u001b[0;32m      1\u001b[0m \u001b[0ms\u001b[0m \u001b[1;33m=\u001b[0m \u001b[1;34m\"python\"\u001b[0m\u001b[1;33m\u001b[0m\u001b[1;33m\u001b[0m\u001b[0m\n\u001b[1;32m----> 2\u001b[1;33m \u001b[0mprint\u001b[0m\u001b[1;33m(\u001b[0m\u001b[0ms\u001b[0m\u001b[1;33m[\u001b[0m\u001b[1;33m-\u001b[0m\u001b[1;36m100\u001b[0m\u001b[1;33m]\u001b[0m\u001b[1;33m)\u001b[0m\u001b[1;33m\u001b[0m\u001b[1;33m\u001b[0m\u001b[0m\n\u001b[0m\u001b[0;32m      3\u001b[0m \u001b[0mprint\u001b[0m\u001b[1;33m(\u001b[0m\u001b[0ms\u001b[0m\u001b[1;33m[\u001b[0m\u001b[1;36m100\u001b[0m\u001b[1;33m]\u001b[0m\u001b[1;33m)\u001b[0m\u001b[1;33m\u001b[0m\u001b[1;33m\u001b[0m\u001b[0m\n",
      "\u001b[1;31mIndexError\u001b[0m: string index out of range"
     ]
    }
   ],
   "source": [
    "s = \"python\"\n",
    "print(s[-100])\n",
    "print(s[100])"
   ]
  },
  {
   "cell_type": "markdown",
   "id": "70131a17",
   "metadata": {},
   "source": [
    "문자열 s는 길이가 6인 문자열이기 때문에 인덱스의 범위가 -6 ~ 5 이므로 에러가 나온다"
   ]
  },
  {
   "cell_type": "markdown",
   "id": "9ebe964a",
   "metadata": {},
   "source": [
    "#### C. s[-100, 100]은 값이 나오는지 에러가 나오는지 확인하고 그 결과에 대한 이유를 나름대로 설명해 보시오."
   ]
  },
  {
   "cell_type": "code",
   "execution_count": 28,
   "id": "8c9b162c",
   "metadata": {
    "scrolled": true
   },
   "outputs": [
    {
     "ename": "TypeError",
     "evalue": "string indices must be integers",
     "output_type": "error",
     "traceback": [
      "\u001b[1;31m---------------------------------------------------------------------------\u001b[0m",
      "\u001b[1;31mTypeError\u001b[0m                                 Traceback (most recent call last)",
      "\u001b[1;32m<ipython-input-28-a1a1ec60787d>\u001b[0m in \u001b[0;36m<module>\u001b[1;34m\u001b[0m\n\u001b[0;32m      1\u001b[0m \u001b[0ms\u001b[0m \u001b[1;33m=\u001b[0m \u001b[1;34m\"python\"\u001b[0m\u001b[1;33m\u001b[0m\u001b[1;33m\u001b[0m\u001b[0m\n\u001b[1;32m----> 2\u001b[1;33m \u001b[0mprint\u001b[0m\u001b[1;33m(\u001b[0m\u001b[0ms\u001b[0m\u001b[1;33m[\u001b[0m\u001b[1;33m-\u001b[0m\u001b[1;36m1\u001b[0m\u001b[1;33m,\u001b[0m\u001b[1;36m1\u001b[0m\u001b[1;33m]\u001b[0m\u001b[1;33m)\u001b[0m\u001b[1;33m\u001b[0m\u001b[1;33m\u001b[0m\u001b[0m\n\u001b[0m",
      "\u001b[1;31mTypeError\u001b[0m: string indices must be integers"
     ]
    }
   ],
   "source": [
    "s = \"python\"\n",
    "print(s[-100,100])"
   ]
  },
  {
   "cell_type": "markdown",
   "id": "7cc002ae",
   "metadata": {},
   "source": [
    "문자열의 인덱스로는 정수가 와야하기 때문에 에러가 나온다"
   ]
  },
  {
   "cell_type": "markdown",
   "id": "e0183777",
   "metadata": {},
   "source": [
    "#### D. s[1:-1]의 결과를 확인하고 그 결과에 대한 이유를 정확하게 설명하시오."
   ]
  },
  {
   "cell_type": "code",
   "execution_count": 29,
   "id": "9fae1dbf",
   "metadata": {
    "scrolled": true
   },
   "outputs": [
    {
     "name": "stdout",
     "output_type": "stream",
     "text": [
      "ytho\n"
     ]
    }
   ],
   "source": [
    "s = \"python\"\n",
    "print(s[1:-1])"
   ]
  },
  {
   "cell_type": "code",
   "execution_count": null,
   "id": "c5bf2263",
   "metadata": {},
   "outputs": [],
   "source": [
    "문자열의 인덱스로 음수가 들어온 경우 문자열의 끝에서부터의 값을 반환하기 때문에 s[1:-1] = s[1:5]이므로 \"ytho\" 가 반환된다"
   ]
  },
  {
   "cell_type": "markdown",
   "id": "ead0c44e",
   "metadata": {},
   "source": [
    "#### E. s[3:-3]의 결과를 확인하고 그 결과에 대한 이유를 정확하게 설명하시오."
   ]
  },
  {
   "cell_type": "code",
   "execution_count": 30,
   "id": "25a8bacf",
   "metadata": {},
   "outputs": [
    {
     "name": "stdout",
     "output_type": "stream",
     "text": [
      "\n"
     ]
    }
   ],
   "source": [
    "s = \"python\"\n",
    "print(s[3:-3])"
   ]
  },
  {
   "cell_type": "markdown",
   "id": "14863a3c",
   "metadata": {},
   "source": [
    "s의 길이가 6이기 때문에 s[-3] = s[3]이다. 따라서 s[3:-3] = s[3:3]이므로 비어있는 값이 출력된다."
   ]
  },
  {
   "cell_type": "markdown",
   "id": "2f8bbaf8",
   "metadata": {},
   "source": [
    "#### 5. for문을 활용하여 1부터 100사이의 홀수를 출력하시오."
   ]
  },
  {
   "cell_type": "code",
   "execution_count": 33,
   "id": "a325cec8",
   "metadata": {},
   "outputs": [
    {
     "name": "stdout",
     "output_type": "stream",
     "text": [
      "1 3 5 7 9 11 13 15 17 19 21 23 25 27 29 31 33 35 37 39 41 43 45 47 49 51 53 55 57 59 61 63 65 67 69 71 73 75 77 79 81 83 85 87 89 91 93 95 97 99 "
     ]
    }
   ],
   "source": [
    "for i in range(1,101) :\n",
    "    if(i%2 == 1) :\n",
    "        print(i, end = '')\n",
    "        print(\" \", end ='')"
   ]
  },
  {
   "cell_type": "markdown",
   "id": "114e5fb2",
   "metadata": {},
   "source": [
    "#### 6. while문을 활용하여 1부터 100사이의 짝수의 합을 계산하여 출력하시오."
   ]
  },
  {
   "cell_type": "code",
   "execution_count": 34,
   "id": "cea55117",
   "metadata": {},
   "outputs": [
    {
     "data": {
      "text/plain": [
       "2550"
      ]
     },
     "execution_count": 34,
     "metadata": {},
     "output_type": "execute_result"
    }
   ],
   "source": [
    "sum = 0\n",
    "i = 1\n",
    "while i <= 100 :\n",
    "    if(i%2==0) :\n",
    "        sum += i\n",
    "    i += 1\n",
    "sum"
   ]
  },
  {
   "cell_type": "markdown",
   "id": "d45d6f49",
   "metadata": {},
   "source": [
    "#### 7. 사용자로 부터 임의의 정수를 입력받고, 해당 숫자를 역순으로 출력하는 프로그램을 작성하시오."
   ]
  },
  {
   "cell_type": "code",
   "execution_count": 37,
   "id": "06161860",
   "metadata": {},
   "outputs": [
    {
     "name": "stdout",
     "output_type": "stream",
     "text": [
      "정수를 입력하세요1234\n",
      "4321\n"
     ]
    }
   ],
   "source": [
    "a = input(\"정수를 입력하세요\")\n",
    "print(a[::-1])"
   ]
  },
  {
   "cell_type": "markdown",
   "id": "72dcede1",
   "metadata": {},
   "source": [
    "#### 8. 사용자로 부터 정수를 입력받아서 1부터 그 사이에 존재하는 소수 (Prime number)를 출력하는 파이썬 프로그램을 작성하시오."
   ]
  },
  {
   "cell_type": "code",
   "execution_count": 39,
   "id": "ade74e61",
   "metadata": {},
   "outputs": [
    {
     "name": "stdout",
     "output_type": "stream",
     "text": [
      "정수 입력 : 10\n",
      "2 3 5 7 "
     ]
    }
   ],
   "source": [
    "n = int(input(\"정수 입력 : \"))\n",
    "i = 1\n",
    "while i <= n :\n",
    "    j = 1\n",
    "    count = 0\n",
    "    while j <= i :\n",
    "        if(i%j==0) : count += 1\n",
    "        j+=1\n",
    "    if(count == 2) : print(i, end=' ')\n",
    "    i += 1"
   ]
  },
  {
   "cell_type": "markdown",
   "id": "f0e14ccd",
   "metadata": {},
   "source": [
    "#### 9. Kevin과 Stuart는 게임을 한다. 규칙은 아래와 같다.\n",
    "##### 두 플레이어에게 같은 string S 가 주어진다.\n",
    "##### 두 플레이어는 string S의 문자를 사용하여 substring을 만들어야 한다(중복 가능).\n",
    "##### Stuart는 자음으로 시작하는 단어를 만들어야 한다.\n",
    "##### Kevin은 모음으로 시작하는 단어를 만들어야 한다.\n",
    "##### 게임은 두 플레이어가 만들 수 있는 모든 단어를 만들었을 때 끝난다.\n",
    "##### 점수 계산 : substring 1개당 +1 점을 획득한다.\n",
    "#### 사용자로 부터 대문자로 이루어진 string S를 입력받고, 승자와 그의 점수를 출력하는 프로그램을 작성하시오."
   ]
  },
  {
   "cell_type": "code",
   "execution_count": 40,
   "id": "763c3198",
   "metadata": {},
   "outputs": [
    {
     "name": "stdout",
     "output_type": "stream",
     "text": [
      "대문자로 이루어진 단어 입력 : BANANA\n",
      "승자 : Stuart, 점수 :  12\n"
     ]
    }
   ],
   "source": [
    "kevin = 0\n",
    "stuart = 0\n",
    "s = input(\"대문자로 이루어진 단어 입력 : \")\n",
    "for i in range(len(s)) :\n",
    "    if(s[i]==\"A\" or s[i]==\"E\" or s[i]==\"I\" or s[i]==\"O\" or s[i]==\"U\") :\n",
    "        kevin += len(s[i:])\n",
    "    else : stuart += len(s[i:])\n",
    "if(kevin > stuart) :\n",
    "    print(\"승자 : Kevin, 점수 : \",kevin)\n",
    "elif(stuart > kevin) :\n",
    "    print(\"승자 : Stuart, 점수 : \",stuart)\n",
    "else : \n",
    "    print(\"무승부, 점수 : \",kevin)"
   ]
  },
  {
   "cell_type": "markdown",
   "id": "688e013c",
   "metadata": {},
   "source": [
    "#### 10. 알파벳 소문자만으로 이루어진 string S 가 주어지고 아래 2가지 연산을 수행할 수 있다\n",
    "##### 추가 : string S의 끝에 알파벳 소문자 하나를 추가한다.\n",
    "##### 삭제 : string S의 마지막 문자 하나를 삭제한다. empty string에서 삭제 연산을 수행한 결과는 empty string이다.\n",
    "#### 두 개의 string s와 t, 그리고 정수 k가 주어질 때, 정확히 k번의 연산을 통해 s를 t로 바꿀 수 있는지 판단하는 함수를 작성하시오."
   ]
  },
  {
   "cell_type": "code",
   "execution_count": 45,
   "id": "cb723fb4",
   "metadata": {},
   "outputs": [
    {
     "name": "stdout",
     "output_type": "stream",
     "text": [
      "소문자 string s 입력 : aba\n",
      "소문자 string t 입력 : aba\n",
      "정수 k 입력 : 8\n",
      "Yes\n"
     ]
    }
   ],
   "source": [
    "def appendDelete(s, t, k) :\n",
    "    count = 0\n",
    "    if(len(s)>len(t)) :\n",
    "        temp = -1\n",
    "        for i in range(len(t)) :\n",
    "            if(s[i]!=t[i]) :\n",
    "                temp = i\n",
    "                break\n",
    "        \n",
    "    else :\n",
    "        temp = -1\n",
    "        for i in range(len(s)) :\n",
    "            if(s[i]!=t[i]) :\n",
    "                temp = i\n",
    "                break\n",
    "    if(temp == -1) : temp = len(t)\n",
    "    count += len(s) - temp + (len(t) - temp)\n",
    "    if(count > k) : return \"No\"\n",
    "    elif((k-count)%2 == 0) : return \"Yes\"\n",
    "    else : return \"NO\"\n",
    "\n",
    "s = input(\"소문자 string s 입력 : \")\n",
    "t = input(\"소문자 string t 입력 : \")\n",
    "k = int(input(\"정수 k 입력 : \"))\n",
    "print(appendDelete(s,t,k))"
   ]
  },
  {
   "cell_type": "code",
   "execution_count": null,
   "id": "b72d1525",
   "metadata": {},
   "outputs": [],
   "source": []
  },
  {
   "cell_type": "code",
   "execution_count": null,
   "id": "d3830264",
   "metadata": {},
   "outputs": [],
   "source": []
  }
 ],
 "metadata": {
  "kernelspec": {
   "display_name": "Python 3",
   "language": "python",
   "name": "python3"
  },
  "language_info": {
   "codemirror_mode": {
    "name": "ipython",
    "version": 3
   },
   "file_extension": ".py",
   "mimetype": "text/x-python",
   "name": "python",
   "nbconvert_exporter": "python",
   "pygments_lexer": "ipython3",
   "version": "3.8.8"
  }
 },
 "nbformat": 4,
 "nbformat_minor": 5
}
